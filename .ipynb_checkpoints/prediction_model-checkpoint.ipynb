{
 "cells": [
  {
   "cell_type": "code",
   "execution_count": 692,
   "id": "abbdf30d",
   "metadata": {},
   "outputs": [],
   "source": [
    "import numpy as np\n",
    "import pandas as pd\n",
    "import matplotlib.pyplot as plt\n",
    "import seaborn as sns\n",
    "from yellowbrick.classifier import ConfusionMatrix\n",
    "import plotly.express as px"
   ]
  },
  {
   "cell_type": "code",
   "execution_count": 693,
   "id": "90bf3931",
   "metadata": {},
   "outputs": [
    {
     "data": {
      "text/html": [
       "<div>\n",
       "<style scoped>\n",
       "    .dataframe tbody tr th:only-of-type {\n",
       "        vertical-align: middle;\n",
       "    }\n",
       "\n",
       "    .dataframe tbody tr th {\n",
       "        vertical-align: top;\n",
       "    }\n",
       "\n",
       "    .dataframe thead th {\n",
       "        text-align: right;\n",
       "    }\n",
       "</style>\n",
       "<table border=\"1\" class=\"dataframe\">\n",
       "  <thead>\n",
       "    <tr style=\"text-align: right;\">\n",
       "      <th></th>\n",
       "      <th>id</th>\n",
       "      <th>diagnosis_result</th>\n",
       "      <th>radius</th>\n",
       "      <th>texture</th>\n",
       "      <th>perimeter</th>\n",
       "      <th>area</th>\n",
       "      <th>smoothness</th>\n",
       "      <th>compactness</th>\n",
       "      <th>symmetry</th>\n",
       "      <th>fractal_dimension</th>\n",
       "    </tr>\n",
       "  </thead>\n",
       "  <tbody>\n",
       "    <tr>\n",
       "      <th>0</th>\n",
       "      <td>1</td>\n",
       "      <td>M</td>\n",
       "      <td>23</td>\n",
       "      <td>12</td>\n",
       "      <td>151</td>\n",
       "      <td>954</td>\n",
       "      <td>0.143</td>\n",
       "      <td>0.278</td>\n",
       "      <td>0.242</td>\n",
       "      <td>0.079</td>\n",
       "    </tr>\n",
       "    <tr>\n",
       "      <th>1</th>\n",
       "      <td>2</td>\n",
       "      <td>B</td>\n",
       "      <td>9</td>\n",
       "      <td>13</td>\n",
       "      <td>133</td>\n",
       "      <td>1326</td>\n",
       "      <td>0.143</td>\n",
       "      <td>0.079</td>\n",
       "      <td>0.181</td>\n",
       "      <td>0.057</td>\n",
       "    </tr>\n",
       "    <tr>\n",
       "      <th>2</th>\n",
       "      <td>3</td>\n",
       "      <td>M</td>\n",
       "      <td>21</td>\n",
       "      <td>27</td>\n",
       "      <td>130</td>\n",
       "      <td>1203</td>\n",
       "      <td>0.125</td>\n",
       "      <td>0.160</td>\n",
       "      <td>0.207</td>\n",
       "      <td>0.060</td>\n",
       "    </tr>\n",
       "    <tr>\n",
       "      <th>3</th>\n",
       "      <td>4</td>\n",
       "      <td>M</td>\n",
       "      <td>14</td>\n",
       "      <td>16</td>\n",
       "      <td>78</td>\n",
       "      <td>386</td>\n",
       "      <td>0.070</td>\n",
       "      <td>0.284</td>\n",
       "      <td>0.260</td>\n",
       "      <td>0.097</td>\n",
       "    </tr>\n",
       "    <tr>\n",
       "      <th>4</th>\n",
       "      <td>5</td>\n",
       "      <td>M</td>\n",
       "      <td>9</td>\n",
       "      <td>19</td>\n",
       "      <td>135</td>\n",
       "      <td>1297</td>\n",
       "      <td>0.141</td>\n",
       "      <td>0.133</td>\n",
       "      <td>0.181</td>\n",
       "      <td>0.059</td>\n",
       "    </tr>\n",
       "    <tr>\n",
       "      <th>5</th>\n",
       "      <td>6</td>\n",
       "      <td>B</td>\n",
       "      <td>25</td>\n",
       "      <td>25</td>\n",
       "      <td>83</td>\n",
       "      <td>477</td>\n",
       "      <td>0.128</td>\n",
       "      <td>0.170</td>\n",
       "      <td>0.209</td>\n",
       "      <td>0.076</td>\n",
       "    </tr>\n",
       "    <tr>\n",
       "      <th>6</th>\n",
       "      <td>7</td>\n",
       "      <td>M</td>\n",
       "      <td>16</td>\n",
       "      <td>26</td>\n",
       "      <td>120</td>\n",
       "      <td>1040</td>\n",
       "      <td>0.095</td>\n",
       "      <td>0.109</td>\n",
       "      <td>0.179</td>\n",
       "      <td>0.057</td>\n",
       "    </tr>\n",
       "    <tr>\n",
       "      <th>7</th>\n",
       "      <td>8</td>\n",
       "      <td>M</td>\n",
       "      <td>15</td>\n",
       "      <td>18</td>\n",
       "      <td>90</td>\n",
       "      <td>578</td>\n",
       "      <td>0.119</td>\n",
       "      <td>0.165</td>\n",
       "      <td>0.220</td>\n",
       "      <td>0.075</td>\n",
       "    </tr>\n",
       "    <tr>\n",
       "      <th>8</th>\n",
       "      <td>9</td>\n",
       "      <td>M</td>\n",
       "      <td>19</td>\n",
       "      <td>24</td>\n",
       "      <td>88</td>\n",
       "      <td>520</td>\n",
       "      <td>0.127</td>\n",
       "      <td>0.193</td>\n",
       "      <td>0.235</td>\n",
       "      <td>0.074</td>\n",
       "    </tr>\n",
       "    <tr>\n",
       "      <th>9</th>\n",
       "      <td>10</td>\n",
       "      <td>M</td>\n",
       "      <td>25</td>\n",
       "      <td>11</td>\n",
       "      <td>84</td>\n",
       "      <td>476</td>\n",
       "      <td>0.119</td>\n",
       "      <td>0.240</td>\n",
       "      <td>0.203</td>\n",
       "      <td>0.082</td>\n",
       "    </tr>\n",
       "  </tbody>\n",
       "</table>\n",
       "</div>"
      ],
      "text/plain": [
       "   id diagnosis_result  radius  texture  perimeter  area  smoothness  \\\n",
       "0   1                M      23       12        151   954       0.143   \n",
       "1   2                B       9       13        133  1326       0.143   \n",
       "2   3                M      21       27        130  1203       0.125   \n",
       "3   4                M      14       16         78   386       0.070   \n",
       "4   5                M       9       19        135  1297       0.141   \n",
       "5   6                B      25       25         83   477       0.128   \n",
       "6   7                M      16       26        120  1040       0.095   \n",
       "7   8                M      15       18         90   578       0.119   \n",
       "8   9                M      19       24         88   520       0.127   \n",
       "9  10                M      25       11         84   476       0.119   \n",
       "\n",
       "   compactness  symmetry  fractal_dimension  \n",
       "0        0.278     0.242              0.079  \n",
       "1        0.079     0.181              0.057  \n",
       "2        0.160     0.207              0.060  \n",
       "3        0.284     0.260              0.097  \n",
       "4        0.133     0.181              0.059  \n",
       "5        0.170     0.209              0.076  \n",
       "6        0.109     0.179              0.057  \n",
       "7        0.165     0.220              0.075  \n",
       "8        0.193     0.235              0.074  \n",
       "9        0.240     0.203              0.082  "
      ]
     },
     "execution_count": 693,
     "metadata": {},
     "output_type": "execute_result"
    }
   ],
   "source": [
    "data = pd.read_csv('Prostate_Cancer.csv')\n",
    "data.head(10)"
   ]
  },
  {
   "cell_type": "code",
   "execution_count": 694,
   "id": "72f57084",
   "metadata": {},
   "outputs": [
    {
     "data": {
      "text/html": [
       "<div>\n",
       "<style scoped>\n",
       "    .dataframe tbody tr th:only-of-type {\n",
       "        vertical-align: middle;\n",
       "    }\n",
       "\n",
       "    .dataframe tbody tr th {\n",
       "        vertical-align: top;\n",
       "    }\n",
       "\n",
       "    .dataframe thead th {\n",
       "        text-align: right;\n",
       "    }\n",
       "</style>\n",
       "<table border=\"1\" class=\"dataframe\">\n",
       "  <thead>\n",
       "    <tr style=\"text-align: right;\">\n",
       "      <th></th>\n",
       "      <th>diagnosis_result</th>\n",
       "      <th>radius</th>\n",
       "      <th>texture</th>\n",
       "      <th>perimeter</th>\n",
       "      <th>area</th>\n",
       "      <th>smoothness</th>\n",
       "      <th>compactness</th>\n",
       "      <th>symmetry</th>\n",
       "      <th>fractal_dimension</th>\n",
       "    </tr>\n",
       "  </thead>\n",
       "  <tbody>\n",
       "    <tr>\n",
       "      <th>0</th>\n",
       "      <td>M</td>\n",
       "      <td>23</td>\n",
       "      <td>12</td>\n",
       "      <td>151</td>\n",
       "      <td>954</td>\n",
       "      <td>0.143</td>\n",
       "      <td>0.278</td>\n",
       "      <td>0.242</td>\n",
       "      <td>0.079</td>\n",
       "    </tr>\n",
       "    <tr>\n",
       "      <th>1</th>\n",
       "      <td>B</td>\n",
       "      <td>9</td>\n",
       "      <td>13</td>\n",
       "      <td>133</td>\n",
       "      <td>1326</td>\n",
       "      <td>0.143</td>\n",
       "      <td>0.079</td>\n",
       "      <td>0.181</td>\n",
       "      <td>0.057</td>\n",
       "    </tr>\n",
       "    <tr>\n",
       "      <th>2</th>\n",
       "      <td>M</td>\n",
       "      <td>21</td>\n",
       "      <td>27</td>\n",
       "      <td>130</td>\n",
       "      <td>1203</td>\n",
       "      <td>0.125</td>\n",
       "      <td>0.160</td>\n",
       "      <td>0.207</td>\n",
       "      <td>0.060</td>\n",
       "    </tr>\n",
       "    <tr>\n",
       "      <th>3</th>\n",
       "      <td>M</td>\n",
       "      <td>14</td>\n",
       "      <td>16</td>\n",
       "      <td>78</td>\n",
       "      <td>386</td>\n",
       "      <td>0.070</td>\n",
       "      <td>0.284</td>\n",
       "      <td>0.260</td>\n",
       "      <td>0.097</td>\n",
       "    </tr>\n",
       "    <tr>\n",
       "      <th>4</th>\n",
       "      <td>M</td>\n",
       "      <td>9</td>\n",
       "      <td>19</td>\n",
       "      <td>135</td>\n",
       "      <td>1297</td>\n",
       "      <td>0.141</td>\n",
       "      <td>0.133</td>\n",
       "      <td>0.181</td>\n",
       "      <td>0.059</td>\n",
       "    </tr>\n",
       "    <tr>\n",
       "      <th>5</th>\n",
       "      <td>B</td>\n",
       "      <td>25</td>\n",
       "      <td>25</td>\n",
       "      <td>83</td>\n",
       "      <td>477</td>\n",
       "      <td>0.128</td>\n",
       "      <td>0.170</td>\n",
       "      <td>0.209</td>\n",
       "      <td>0.076</td>\n",
       "    </tr>\n",
       "    <tr>\n",
       "      <th>6</th>\n",
       "      <td>M</td>\n",
       "      <td>16</td>\n",
       "      <td>26</td>\n",
       "      <td>120</td>\n",
       "      <td>1040</td>\n",
       "      <td>0.095</td>\n",
       "      <td>0.109</td>\n",
       "      <td>0.179</td>\n",
       "      <td>0.057</td>\n",
       "    </tr>\n",
       "    <tr>\n",
       "      <th>7</th>\n",
       "      <td>M</td>\n",
       "      <td>15</td>\n",
       "      <td>18</td>\n",
       "      <td>90</td>\n",
       "      <td>578</td>\n",
       "      <td>0.119</td>\n",
       "      <td>0.165</td>\n",
       "      <td>0.220</td>\n",
       "      <td>0.075</td>\n",
       "    </tr>\n",
       "    <tr>\n",
       "      <th>8</th>\n",
       "      <td>M</td>\n",
       "      <td>19</td>\n",
       "      <td>24</td>\n",
       "      <td>88</td>\n",
       "      <td>520</td>\n",
       "      <td>0.127</td>\n",
       "      <td>0.193</td>\n",
       "      <td>0.235</td>\n",
       "      <td>0.074</td>\n",
       "    </tr>\n",
       "    <tr>\n",
       "      <th>9</th>\n",
       "      <td>M</td>\n",
       "      <td>25</td>\n",
       "      <td>11</td>\n",
       "      <td>84</td>\n",
       "      <td>476</td>\n",
       "      <td>0.119</td>\n",
       "      <td>0.240</td>\n",
       "      <td>0.203</td>\n",
       "      <td>0.082</td>\n",
       "    </tr>\n",
       "  </tbody>\n",
       "</table>\n",
       "</div>"
      ],
      "text/plain": [
       "  diagnosis_result  radius  texture  perimeter  area  smoothness  compactness  \\\n",
       "0                M      23       12        151   954       0.143        0.278   \n",
       "1                B       9       13        133  1326       0.143        0.079   \n",
       "2                M      21       27        130  1203       0.125        0.160   \n",
       "3                M      14       16         78   386       0.070        0.284   \n",
       "4                M       9       19        135  1297       0.141        0.133   \n",
       "5                B      25       25         83   477       0.128        0.170   \n",
       "6                M      16       26        120  1040       0.095        0.109   \n",
       "7                M      15       18         90   578       0.119        0.165   \n",
       "8                M      19       24         88   520       0.127        0.193   \n",
       "9                M      25       11         84   476       0.119        0.240   \n",
       "\n",
       "   symmetry  fractal_dimension  \n",
       "0     0.242              0.079  \n",
       "1     0.181              0.057  \n",
       "2     0.207              0.060  \n",
       "3     0.260              0.097  \n",
       "4     0.181              0.059  \n",
       "5     0.209              0.076  \n",
       "6     0.179              0.057  \n",
       "7     0.220              0.075  \n",
       "8     0.235              0.074  \n",
       "9     0.203              0.082  "
      ]
     },
     "execution_count": 694,
     "metadata": {},
     "output_type": "execute_result"
    }
   ],
   "source": [
    "data = data.drop(['id'], axis=1)\n",
    "data.head(10)"
   ]
  },
  {
   "cell_type": "code",
   "execution_count": 695,
   "id": "e7023328",
   "metadata": {},
   "outputs": [
    {
     "data": {
      "text/plain": [
       "diagnosis_result     0\n",
       "radius               0\n",
       "texture              0\n",
       "perimeter            0\n",
       "area                 0\n",
       "smoothness           0\n",
       "compactness          0\n",
       "symmetry             0\n",
       "fractal_dimension    0\n",
       "dtype: int64"
      ]
     },
     "execution_count": 695,
     "metadata": {},
     "output_type": "execute_result"
    }
   ],
   "source": [
    "data.isna().sum()"
   ]
  },
  {
   "cell_type": "code",
   "execution_count": 696,
   "id": "cdbf6bce",
   "metadata": {},
   "outputs": [
    {
     "data": {
      "text/plain": [
       "diagnosis_result     0\n",
       "radius               0\n",
       "texture              0\n",
       "perimeter            0\n",
       "area                 0\n",
       "smoothness           0\n",
       "compactness          0\n",
       "symmetry             0\n",
       "fractal_dimension    0\n",
       "dtype: int64"
      ]
     },
     "execution_count": 696,
     "metadata": {},
     "output_type": "execute_result"
    }
   ],
   "source": [
    "data.isnull().sum()"
   ]
  },
  {
   "cell_type": "code",
   "execution_count": 697,
   "id": "6b8e51e6",
   "metadata": {},
   "outputs": [
    {
     "data": {
      "text/html": [
       "<div>\n",
       "<style scoped>\n",
       "    .dataframe tbody tr th:only-of-type {\n",
       "        vertical-align: middle;\n",
       "    }\n",
       "\n",
       "    .dataframe tbody tr th {\n",
       "        vertical-align: top;\n",
       "    }\n",
       "\n",
       "    .dataframe thead th {\n",
       "        text-align: right;\n",
       "    }\n",
       "</style>\n",
       "<table border=\"1\" class=\"dataframe\">\n",
       "  <thead>\n",
       "    <tr style=\"text-align: right;\">\n",
       "      <th></th>\n",
       "      <th>radius</th>\n",
       "      <th>texture</th>\n",
       "      <th>perimeter</th>\n",
       "      <th>area</th>\n",
       "      <th>smoothness</th>\n",
       "      <th>compactness</th>\n",
       "      <th>symmetry</th>\n",
       "      <th>fractal_dimension</th>\n",
       "    </tr>\n",
       "  </thead>\n",
       "  <tbody>\n",
       "    <tr>\n",
       "      <th>count</th>\n",
       "      <td>100.000000</td>\n",
       "      <td>100.000000</td>\n",
       "      <td>100.000000</td>\n",
       "      <td>100.000000</td>\n",
       "      <td>100.000000</td>\n",
       "      <td>100.000000</td>\n",
       "      <td>100.000000</td>\n",
       "      <td>100.000000</td>\n",
       "    </tr>\n",
       "    <tr>\n",
       "      <th>mean</th>\n",
       "      <td>16.850000</td>\n",
       "      <td>18.230000</td>\n",
       "      <td>96.780000</td>\n",
       "      <td>702.880000</td>\n",
       "      <td>0.102730</td>\n",
       "      <td>0.126700</td>\n",
       "      <td>0.193170</td>\n",
       "      <td>0.064690</td>\n",
       "    </tr>\n",
       "    <tr>\n",
       "      <th>std</th>\n",
       "      <td>4.879094</td>\n",
       "      <td>5.192954</td>\n",
       "      <td>23.676089</td>\n",
       "      <td>319.710895</td>\n",
       "      <td>0.014642</td>\n",
       "      <td>0.061144</td>\n",
       "      <td>0.030785</td>\n",
       "      <td>0.008151</td>\n",
       "    </tr>\n",
       "    <tr>\n",
       "      <th>min</th>\n",
       "      <td>9.000000</td>\n",
       "      <td>11.000000</td>\n",
       "      <td>52.000000</td>\n",
       "      <td>202.000000</td>\n",
       "      <td>0.070000</td>\n",
       "      <td>0.038000</td>\n",
       "      <td>0.135000</td>\n",
       "      <td>0.053000</td>\n",
       "    </tr>\n",
       "    <tr>\n",
       "      <th>25%</th>\n",
       "      <td>12.000000</td>\n",
       "      <td>14.000000</td>\n",
       "      <td>82.500000</td>\n",
       "      <td>476.750000</td>\n",
       "      <td>0.093500</td>\n",
       "      <td>0.080500</td>\n",
       "      <td>0.172000</td>\n",
       "      <td>0.059000</td>\n",
       "    </tr>\n",
       "    <tr>\n",
       "      <th>50%</th>\n",
       "      <td>17.000000</td>\n",
       "      <td>17.500000</td>\n",
       "      <td>94.000000</td>\n",
       "      <td>644.000000</td>\n",
       "      <td>0.102000</td>\n",
       "      <td>0.118500</td>\n",
       "      <td>0.190000</td>\n",
       "      <td>0.063000</td>\n",
       "    </tr>\n",
       "    <tr>\n",
       "      <th>75%</th>\n",
       "      <td>21.000000</td>\n",
       "      <td>22.250000</td>\n",
       "      <td>114.250000</td>\n",
       "      <td>917.000000</td>\n",
       "      <td>0.112000</td>\n",
       "      <td>0.157000</td>\n",
       "      <td>0.209000</td>\n",
       "      <td>0.069000</td>\n",
       "    </tr>\n",
       "    <tr>\n",
       "      <th>max</th>\n",
       "      <td>25.000000</td>\n",
       "      <td>27.000000</td>\n",
       "      <td>172.000000</td>\n",
       "      <td>1878.000000</td>\n",
       "      <td>0.143000</td>\n",
       "      <td>0.345000</td>\n",
       "      <td>0.304000</td>\n",
       "      <td>0.097000</td>\n",
       "    </tr>\n",
       "  </tbody>\n",
       "</table>\n",
       "</div>"
      ],
      "text/plain": [
       "           radius     texture   perimeter         area  smoothness  \\\n",
       "count  100.000000  100.000000  100.000000   100.000000  100.000000   \n",
       "mean    16.850000   18.230000   96.780000   702.880000    0.102730   \n",
       "std      4.879094    5.192954   23.676089   319.710895    0.014642   \n",
       "min      9.000000   11.000000   52.000000   202.000000    0.070000   \n",
       "25%     12.000000   14.000000   82.500000   476.750000    0.093500   \n",
       "50%     17.000000   17.500000   94.000000   644.000000    0.102000   \n",
       "75%     21.000000   22.250000  114.250000   917.000000    0.112000   \n",
       "max     25.000000   27.000000  172.000000  1878.000000    0.143000   \n",
       "\n",
       "       compactness    symmetry  fractal_dimension  \n",
       "count   100.000000  100.000000         100.000000  \n",
       "mean      0.126700    0.193170           0.064690  \n",
       "std       0.061144    0.030785           0.008151  \n",
       "min       0.038000    0.135000           0.053000  \n",
       "25%       0.080500    0.172000           0.059000  \n",
       "50%       0.118500    0.190000           0.063000  \n",
       "75%       0.157000    0.209000           0.069000  \n",
       "max       0.345000    0.304000           0.097000  "
      ]
     },
     "execution_count": 697,
     "metadata": {},
     "output_type": "execute_result"
    }
   ],
   "source": [
    "data.describe()"
   ]
  },
  {
   "cell_type": "code",
   "execution_count": 698,
   "id": "09b9d7ee",
   "metadata": {},
   "outputs": [
    {
     "data": {
      "text/plain": [
       "(array(['B', 'M'], dtype=object), array([38, 62], dtype=int64))"
      ]
     },
     "execution_count": 698,
     "metadata": {},
     "output_type": "execute_result"
    }
   ],
   "source": [
    "np.unique(data['diagnosis_result'], return_counts = True)"
   ]
  },
  {
   "cell_type": "code",
   "execution_count": 699,
   "id": "ddc176fa",
   "metadata": {},
   "outputs": [
    {
     "data": {
      "image/png": "[encoded data removed]",
      "text/plain": [
       "<Figure size 432x288 with 1 Axes>"
      ]
     },
     "metadata": {
      "needs_background": "light"
     },
     "output_type": "display_data"
    }
   ],
   "source": [
    "sns.countplot(x = data['diagnosis_result']);"
   ]
  },
  {
   "cell_type": "code",
   "execution_count": 700,
   "id": "4e1e0a49",
   "metadata": {},
   "outputs": [],
   "source": [
    "data['diagnosis_result'].replace({'M': 0, 'B': 1}, inplace = True)"
   ]
  },
  {
   "cell_type": "code",
   "execution_count": 701,
   "id": "ddcac77e",
   "metadata": {},
   "outputs": [
    {
     "data": {
      "text/html": [
       "<div>\n",
       "<style scoped>\n",
       "    .dataframe tbody tr th:only-of-type {\n",
       "        vertical-align: middle;\n",
       "    }\n",
       "\n",
       "    .dataframe tbody tr th {\n",
       "        vertical-align: top;\n",
       "    }\n",
       "\n",
       "    .dataframe thead th {\n",
       "        text-align: right;\n",
       "    }\n",
       "</style>\n",
       "<table border=\"1\" class=\"dataframe\">\n",
       "  <thead>\n",
       "    <tr style=\"text-align: right;\">\n",
       "      <th></th>\n",
       "      <th>diagnosis_result</th>\n",
       "      <th>radius</th>\n",
       "      <th>texture</th>\n",
       "      <th>perimeter</th>\n",
       "      <th>area</th>\n",
       "      <th>smoothness</th>\n",
       "      <th>compactness</th>\n",
       "      <th>symmetry</th>\n",
       "      <th>fractal_dimension</th>\n",
       "    </tr>\n",
       "  </thead>\n",
       "  <tbody>\n",
       "    <tr>\n",
       "      <th>0</th>\n",
       "      <td>0</td>\n",
       "      <td>23</td>\n",
       "      <td>12</td>\n",
       "      <td>151</td>\n",
       "      <td>954</td>\n",
       "      <td>0.143</td>\n",
       "      <td>0.278</td>\n",
       "      <td>0.242</td>\n",
       "      <td>0.079</td>\n",
       "    </tr>\n",
       "    <tr>\n",
       "      <th>1</th>\n",
       "      <td>1</td>\n",
       "      <td>9</td>\n",
       "      <td>13</td>\n",
       "      <td>133</td>\n",
       "      <td>1326</td>\n",
       "      <td>0.143</td>\n",
       "      <td>0.079</td>\n",
       "      <td>0.181</td>\n",
       "      <td>0.057</td>\n",
       "    </tr>\n",
       "    <tr>\n",
       "      <th>2</th>\n",
       "      <td>0</td>\n",
       "      <td>21</td>\n",
       "      <td>27</td>\n",
       "      <td>130</td>\n",
       "      <td>1203</td>\n",
       "      <td>0.125</td>\n",
       "      <td>0.160</td>\n",
       "      <td>0.207</td>\n",
       "      <td>0.060</td>\n",
       "    </tr>\n",
       "    <tr>\n",
       "      <th>3</th>\n",
       "      <td>0</td>\n",
       "      <td>14</td>\n",
       "      <td>16</td>\n",
       "      <td>78</td>\n",
       "      <td>386</td>\n",
       "      <td>0.070</td>\n",
       "      <td>0.284</td>\n",
       "      <td>0.260</td>\n",
       "      <td>0.097</td>\n",
       "    </tr>\n",
       "    <tr>\n",
       "      <th>4</th>\n",
       "      <td>0</td>\n",
       "      <td>9</td>\n",
       "      <td>19</td>\n",
       "      <td>135</td>\n",
       "      <td>1297</td>\n",
       "      <td>0.141</td>\n",
       "      <td>0.133</td>\n",
       "      <td>0.181</td>\n",
       "      <td>0.059</td>\n",
       "    </tr>\n",
       "    <tr>\n",
       "      <th>5</th>\n",
       "      <td>1</td>\n",
       "      <td>25</td>\n",
       "      <td>25</td>\n",
       "      <td>83</td>\n",
       "      <td>477</td>\n",
       "      <td>0.128</td>\n",
       "      <td>0.170</td>\n",
       "      <td>0.209</td>\n",
       "      <td>0.076</td>\n",
       "    </tr>\n",
       "    <tr>\n",
       "      <th>6</th>\n",
       "      <td>0</td>\n",
       "      <td>16</td>\n",
       "      <td>26</td>\n",
       "      <td>120</td>\n",
       "      <td>1040</td>\n",
       "      <td>0.095</td>\n",
       "      <td>0.109</td>\n",
       "      <td>0.179</td>\n",
       "      <td>0.057</td>\n",
       "    </tr>\n",
       "    <tr>\n",
       "      <th>7</th>\n",
       "      <td>0</td>\n",
       "      <td>15</td>\n",
       "      <td>18</td>\n",
       "      <td>90</td>\n",
       "      <td>578</td>\n",
       "      <td>0.119</td>\n",
       "      <td>0.165</td>\n",
       "      <td>0.220</td>\n",
       "      <td>0.075</td>\n",
       "    </tr>\n",
       "    <tr>\n",
       "      <th>8</th>\n",
       "      <td>0</td>\n",
       "      <td>19</td>\n",
       "      <td>24</td>\n",
       "      <td>88</td>\n",
       "      <td>520</td>\n",
       "      <td>0.127</td>\n",
       "      <td>0.193</td>\n",
       "      <td>0.235</td>\n",
       "      <td>0.074</td>\n",
       "    </tr>\n",
       "    <tr>\n",
       "      <th>9</th>\n",
       "      <td>0</td>\n",
       "      <td>25</td>\n",
       "      <td>11</td>\n",
       "      <td>84</td>\n",
       "      <td>476</td>\n",
       "      <td>0.119</td>\n",
       "      <td>0.240</td>\n",
       "      <td>0.203</td>\n",
       "      <td>0.082</td>\n",
       "    </tr>\n",
       "  </tbody>\n",
       "</table>\n",
       "</div>"
      ],
      "text/plain": [
       "   diagnosis_result  radius  texture  perimeter  area  smoothness  \\\n",
       "0                 0      23       12        151   954       0.143   \n",
       "1                 1       9       13        133  1326       0.143   \n",
       "2                 0      21       27        130  1203       0.125   \n",
       "3                 0      14       16         78   386       0.070   \n",
       "4                 0       9       19        135  1297       0.141   \n",
       "5                 1      25       25         83   477       0.128   \n",
       "6                 0      16       26        120  1040       0.095   \n",
       "7                 0      15       18         90   578       0.119   \n",
       "8                 0      19       24         88   520       0.127   \n",
       "9                 0      25       11         84   476       0.119   \n",
       "\n",
       "   compactness  symmetry  fractal_dimension  \n",
       "0        0.278     0.242              0.079  \n",
       "1        0.079     0.181              0.057  \n",
       "2        0.160     0.207              0.060  \n",
       "3        0.284     0.260              0.097  \n",
       "4        0.133     0.181              0.059  \n",
       "5        0.170     0.209              0.076  \n",
       "6        0.109     0.179              0.057  \n",
       "7        0.165     0.220              0.075  \n",
       "8        0.193     0.235              0.074  \n",
       "9        0.240     0.203              0.082  "
      ]
     },
     "execution_count": 701,
     "metadata": {},
     "output_type": "execute_result"
    }
   ],
   "source": [
    "data.head(10)"
   ]
  },
  {
   "cell_type": "code",
   "execution_count": 702,
   "id": "313811f6",
   "metadata": {},
   "outputs": [
    {
     "data": {
      "image/png": "[encoded data removed]",
      "text/plain": [
       "<Figure size 432x288 with 1 Axes>"
      ]
     },
     "metadata": {
      "needs_background": "light"
     },
     "output_type": "display_data"
    }
   ],
   "source": [
    "sns.countplot(x = data['diagnosis_result']);"
   ]
  },
  {
   "cell_type": "code",
   "execution_count": 703,
   "id": "73fd00d9",
   "metadata": {},
   "outputs": [
    {
     "data": {
      "text/html": [
       "<style type=\"text/css\">\n",
       "#T_a7be7_row0_col0, #T_a7be7_row1_col1, #T_a7be7_row2_col2, #T_a7be7_row3_col3, #T_a7be7_row4_col4, #T_a7be7_row5_col5, #T_a7be7_row6_col6, #T_a7be7_row7_col7, #T_a7be7_row8_col8 {\n",
       "  background-color: #023858;\n",
       "  color: #f1f1f1;\n",
       "}\n",
       "#T_a7be7_row0_col1 {\n",
       "  background-color: #b1c2de;\n",
       "  color: #000000;\n",
       "}\n",
       "#T_a7be7_row0_col2 {\n",
       "  background-color: #faf2f8;\n",
       "  color: #000000;\n",
       "}\n",
       "#T_a7be7_row0_col3, #T_a7be7_row0_col4, #T_a7be7_row0_col5, #T_a7be7_row0_col6, #T_a7be7_row0_col7, #T_a7be7_row3_col0, #T_a7be7_row3_col2, #T_a7be7_row4_col1, #T_a7be7_row4_col2, #T_a7be7_row4_col8 {\n",
       "  background-color: #fff7fb;\n",
       "  color: #000000;\n",
       "}\n",
       "#T_a7be7_row0_col8, #T_a7be7_row1_col6 {\n",
       "  background-color: #d9d8ea;\n",
       "  color: #000000;\n",
       "}\n",
       "#T_a7be7_row1_col0 {\n",
       "  background-color: #79abd0;\n",
       "  color: #f1f1f1;\n",
       "}\n",
       "#T_a7be7_row1_col2, #T_a7be7_row1_col8, #T_a7be7_row5_col2 {\n",
       "  background-color: #dddbec;\n",
       "  color: #000000;\n",
       "}\n",
       "#T_a7be7_row1_col3, #T_a7be7_row8_col2 {\n",
       "  background-color: #d5d5e8;\n",
       "  color: #000000;\n",
       "}\n",
       "#T_a7be7_row1_col4 {\n",
       "  background-color: #dbdaeb;\n",
       "  color: #000000;\n",
       "}\n",
       "#T_a7be7_row1_col5, #T_a7be7_row3_col8, #T_a7be7_row6_col0 {\n",
       "  background-color: #f6eff7;\n",
       "  color: #000000;\n",
       "}\n",
       "#T_a7be7_row1_col7 {\n",
       "  background-color: #e5e1ef;\n",
       "  color: #000000;\n",
       "}\n",
       "#T_a7be7_row2_col0 {\n",
       "  background-color: #b4c4df;\n",
       "  color: #000000;\n",
       "}\n",
       "#T_a7be7_row2_col1, #T_a7be7_row4_col7 {\n",
       "  background-color: #c6cce3;\n",
       "  color: #000000;\n",
       "}\n",
       "#T_a7be7_row2_col3 {\n",
       "  background-color: #bdc8e1;\n",
       "  color: #000000;\n",
       "}\n",
       "#T_a7be7_row2_col4 {\n",
       "  background-color: #c4cbe3;\n",
       "  color: #000000;\n",
       "}\n",
       "#T_a7be7_row2_col5, #T_a7be7_row2_col7 {\n",
       "  background-color: #d0d1e6;\n",
       "  color: #000000;\n",
       "}\n",
       "#T_a7be7_row2_col6 {\n",
       "  background-color: #abbfdc;\n",
       "  color: #000000;\n",
       "}\n",
       "#T_a7be7_row2_col8 {\n",
       "  background-color: #b7c5df;\n",
       "  color: #000000;\n",
       "}\n",
       "#T_a7be7_row3_col1 {\n",
       "  background-color: #fef6fa;\n",
       "  color: #000000;\n",
       "}\n",
       "#T_a7be7_row3_col4, #T_a7be7_row4_col3 {\n",
       "  background-color: #023b5d;\n",
       "  color: #f1f1f1;\n",
       "}\n",
       "#T_a7be7_row3_col5 {\n",
       "  background-color: #a1bbda;\n",
       "  color: #000000;\n",
       "}\n",
       "#T_a7be7_row3_col6 {\n",
       "  background-color: #1c7fb8;\n",
       "  color: #f1f1f1;\n",
       "}\n",
       "#T_a7be7_row3_col7 {\n",
       "  background-color: #b0c2de;\n",
       "  color: #000000;\n",
       "}\n",
       "#T_a7be7_row4_col0 {\n",
       "  background-color: #fbf3f9;\n",
       "  color: #000000;\n",
       "}\n",
       "#T_a7be7_row4_col5 {\n",
       "  background-color: #b3c3de;\n",
       "  color: #000000;\n",
       "}\n",
       "#T_a7be7_row4_col6 {\n",
       "  background-color: #3991c1;\n",
       "  color: #f1f1f1;\n",
       "}\n",
       "#T_a7be7_row5_col0, #T_a7be7_row8_col3 {\n",
       "  background-color: #ced0e6;\n",
       "  color: #000000;\n",
       "}\n",
       "#T_a7be7_row5_col1 {\n",
       "  background-color: #f0eaf4;\n",
       "  color: #000000;\n",
       "}\n",
       "#T_a7be7_row5_col3 {\n",
       "  background-color: #5ea0ca;\n",
       "  color: #f1f1f1;\n",
       "}\n",
       "#T_a7be7_row5_col4 {\n",
       "  background-color: #76aad0;\n",
       "  color: #f1f1f1;\n",
       "}\n",
       "#T_a7be7_row5_col6 {\n",
       "  background-color: #2d8abd;\n",
       "  color: #f1f1f1;\n",
       "}\n",
       "#T_a7be7_row5_col7 {\n",
       "  background-color: #63a2cb;\n",
       "  color: #f1f1f1;\n",
       "}\n",
       "#T_a7be7_row5_col8 {\n",
       "  background-color: #71a8ce;\n",
       "  color: #f1f1f1;\n",
       "}\n",
       "#T_a7be7_row6_col1 {\n",
       "  background-color: #f8f1f8;\n",
       "  color: #000000;\n",
       "}\n",
       "#T_a7be7_row6_col2 {\n",
       "  background-color: #ebe6f2;\n",
       "  color: #000000;\n",
       "}\n",
       "#T_a7be7_row6_col3 {\n",
       "  background-color: #167bb6;\n",
       "  color: #f1f1f1;\n",
       "}\n",
       "#T_a7be7_row6_col4 {\n",
       "  background-color: #348ebf;\n",
       "  color: #f1f1f1;\n",
       "}\n",
       "#T_a7be7_row6_col5 {\n",
       "  background-color: #5a9ec9;\n",
       "  color: #f1f1f1;\n",
       "}\n",
       "#T_a7be7_row6_col7 {\n",
       "  background-color: #0872b1;\n",
       "  color: #f1f1f1;\n",
       "}\n",
       "#T_a7be7_row6_col8 {\n",
       "  background-color: #0f76b3;\n",
       "  color: #f1f1f1;\n",
       "}\n",
       "#T_a7be7_row7_col0 {\n",
       "  background-color: #d4d4e8;\n",
       "  color: #000000;\n",
       "}\n",
       "#T_a7be7_row7_col1 {\n",
       "  background-color: #e2dfee;\n",
       "  color: #000000;\n",
       "}\n",
       "#T_a7be7_row7_col2 {\n",
       "  background-color: #e1dfed;\n",
       "  color: #000000;\n",
       "}\n",
       "#T_a7be7_row7_col3 {\n",
       "  background-color: #75a9cf;\n",
       "  color: #f1f1f1;\n",
       "}\n",
       "#T_a7be7_row7_col4 {\n",
       "  background-color: #8fb4d6;\n",
       "  color: #000000;\n",
       "}\n",
       "#T_a7be7_row7_col5 {\n",
       "  background-color: #6ba5cd;\n",
       "  color: #f1f1f1;\n",
       "}\n",
       "#T_a7be7_row7_col6 {\n",
       "  background-color: #0569a4;\n",
       "  color: #f1f1f1;\n",
       "}\n",
       "#T_a7be7_row7_col8 {\n",
       "  background-color: #2786bb;\n",
       "  color: #f1f1f1;\n",
       "}\n",
       "#T_a7be7_row8_col0 {\n",
       "  background-color: #a7bddb;\n",
       "  color: #000000;\n",
       "}\n",
       "#T_a7be7_row8_col1 {\n",
       "  background-color: #e0deed;\n",
       "  color: #000000;\n",
       "}\n",
       "#T_a7be7_row8_col4 {\n",
       "  background-color: #dfddec;\n",
       "  color: #000000;\n",
       "}\n",
       "#T_a7be7_row8_col5 {\n",
       "  background-color: #7eadd1;\n",
       "  color: #f1f1f1;\n",
       "}\n",
       "#T_a7be7_row8_col6 {\n",
       "  background-color: #056dab;\n",
       "  color: #f1f1f1;\n",
       "}\n",
       "#T_a7be7_row8_col7 {\n",
       "  background-color: #2c89bd;\n",
       "  color: #f1f1f1;\n",
       "}\n",
       "</style>\n",
       "<table id=\"T_a7be7\">\n",
       "  <thead>\n",
       "    <tr>\n",
       "      <th class=\"blank level0\" >&nbsp;</th>\n",
       "      <th id=\"T_a7be7_level0_col0\" class=\"col_heading level0 col0\" >diagnosis_result</th>\n",
       "      <th id=\"T_a7be7_level0_col1\" class=\"col_heading level0 col1\" >radius</th>\n",
       "      <th id=\"T_a7be7_level0_col2\" class=\"col_heading level0 col2\" >texture</th>\n",
       "      <th id=\"T_a7be7_level0_col3\" class=\"col_heading level0 col3\" >perimeter</th>\n",
       "      <th id=\"T_a7be7_level0_col4\" class=\"col_heading level0 col4\" >area</th>\n",
       "      <th id=\"T_a7be7_level0_col5\" class=\"col_heading level0 col5\" >smoothness</th>\n",
       "      <th id=\"T_a7be7_level0_col6\" class=\"col_heading level0 col6\" >compactness</th>\n",
       "      <th id=\"T_a7be7_level0_col7\" class=\"col_heading level0 col7\" >symmetry</th>\n",
       "      <th id=\"T_a7be7_level0_col8\" class=\"col_heading level0 col8\" >fractal_dimension</th>\n",
       "    </tr>\n",
       "  </thead>\n",
       "  <tbody>\n",
       "    <tr>\n",
       "      <th id=\"T_a7be7_level0_row0\" class=\"row_heading level0 row0\" >diagnosis_result</th>\n",
       "      <td id=\"T_a7be7_row0_col0\" class=\"data row0 col0\" >1.000000</td>\n",
       "      <td id=\"T_a7be7_row0_col1\" class=\"data row0 col1\" >0.176967</td>\n",
       "      <td id=\"T_a7be7_row0_col2\" class=\"data row0 col2\" >-0.070735</td>\n",
       "      <td id=\"T_a7be7_row0_col3\" class=\"data row0 col3\" >-0.607498</td>\n",
       "      <td id=\"T_a7be7_row0_col4\" class=\"data row0 col4\" >-0.562444</td>\n",
       "      <td id=\"T_a7be7_row0_col5\" class=\"data row0 col5\" >-0.197616</td>\n",
       "      <td id=\"T_a7be7_row0_col6\" class=\"data row0 col6\" >-0.512234</td>\n",
       "      <td id=\"T_a7be7_row0_col7\" class=\"data row0 col7\" >-0.233028</td>\n",
       "      <td id=\"T_a7be7_row0_col8\" class=\"data row0 col8\" >-0.008180</td>\n",
       "    </tr>\n",
       "    <tr>\n",
       "      <th id=\"T_a7be7_level0_row1\" class=\"row_heading level0 row1\" >radius</th>\n",
       "      <td id=\"T_a7be7_row1_col0\" class=\"data row1 col0\" >0.176967</td>\n",
       "      <td id=\"T_a7be7_row1_col1\" class=\"data row1 col1\" >1.000000</td>\n",
       "      <td id=\"T_a7be7_row1_col2\" class=\"data row1 col2\" >0.100245</td>\n",
       "      <td id=\"T_a7be7_row1_col3\" class=\"data row1 col3\" >-0.238216</td>\n",
       "      <td id=\"T_a7be7_row1_col4\" class=\"data row1 col4\" >-0.250934</td>\n",
       "      <td id=\"T_a7be7_row1_col5\" class=\"data row1 col5\" >-0.127121</td>\n",
       "      <td id=\"T_a7be7_row1_col6\" class=\"data row1 col6\" >-0.191490</td>\n",
       "      <td id=\"T_a7be7_row1_col7\" class=\"data row1 col7\" >-0.039707</td>\n",
       "      <td id=\"T_a7be7_row1_col8\" class=\"data row1 col8\" >-0.029120</td>\n",
       "    </tr>\n",
       "    <tr>\n",
       "      <th id=\"T_a7be7_level0_row2\" class=\"row_heading level0 row2\" >texture</th>\n",
       "      <td id=\"T_a7be7_row2_col0\" class=\"data row2 col0\" >-0.070735</td>\n",
       "      <td id=\"T_a7be7_row2_col1\" class=\"data row2 col1\" >0.100245</td>\n",
       "      <td id=\"T_a7be7_row2_col2\" class=\"data row2 col2\" >1.000000</td>\n",
       "      <td id=\"T_a7be7_row2_col3\" class=\"data row2 col3\" >-0.113453</td>\n",
       "      <td id=\"T_a7be7_row2_col4\" class=\"data row2 col4\" >-0.113725</td>\n",
       "      <td id=\"T_a7be7_row2_col5\" class=\"data row2 col5\" >0.102321</td>\n",
       "      <td id=\"T_a7be7_row2_col6\" class=\"data row2 col6\" >0.032446</td>\n",
       "      <td id=\"T_a7be7_row2_col7\" class=\"data row2 col7\" >0.077912</td>\n",
       "      <td id=\"T_a7be7_row2_col8\" class=\"data row2 col8\" >0.139157</td>\n",
       "    </tr>\n",
       "    <tr>\n",
       "      <th id=\"T_a7be7_level0_row3\" class=\"row_heading level0 row3\" >perimeter</th>\n",
       "      <td id=\"T_a7be7_row3_col0\" class=\"data row3 col0\" >-0.607498</td>\n",
       "      <td id=\"T_a7be7_row3_col1\" class=\"data row3 col1\" >-0.238216</td>\n",
       "      <td id=\"T_a7be7_row3_col2\" class=\"data row3 col2\" >-0.113453</td>\n",
       "      <td id=\"T_a7be7_row3_col3\" class=\"data row3 col3\" >1.000000</td>\n",
       "      <td id=\"T_a7be7_row3_col4\" class=\"data row3 col4\" >0.976648</td>\n",
       "      <td id=\"T_a7be7_row3_col5\" class=\"data row3 col5\" >0.269442</td>\n",
       "      <td id=\"T_a7be7_row3_col6\" class=\"data row3 col6\" >0.527542</td>\n",
       "      <td id=\"T_a7be7_row3_col7\" class=\"data row3 col7\" >0.195539</td>\n",
       "      <td id=\"T_a7be7_row3_col8\" class=\"data row3 col8\" >-0.195434</td>\n",
       "    </tr>\n",
       "    <tr>\n",
       "      <th id=\"T_a7be7_level0_row4\" class=\"row_heading level0 row4\" >area</th>\n",
       "      <td id=\"T_a7be7_row4_col0\" class=\"data row4 col0\" >-0.562444</td>\n",
       "      <td id=\"T_a7be7_row4_col1\" class=\"data row4 col1\" >-0.250934</td>\n",
       "      <td id=\"T_a7be7_row4_col2\" class=\"data row4 col2\" >-0.113725</td>\n",
       "      <td id=\"T_a7be7_row4_col3\" class=\"data row4 col3\" >0.976648</td>\n",
       "      <td id=\"T_a7be7_row4_col4\" class=\"data row4 col4\" >1.000000</td>\n",
       "      <td id=\"T_a7be7_row4_col5\" class=\"data row4 col5\" >0.208438</td>\n",
       "      <td id=\"T_a7be7_row4_col6\" class=\"data row4 col6\" >0.424950</td>\n",
       "      <td id=\"T_a7be7_row4_col7\" class=\"data row4 col7\" >0.110435</td>\n",
       "      <td id=\"T_a7be7_row4_col8\" class=\"data row4 col8\" >-0.274344</td>\n",
       "    </tr>\n",
       "    <tr>\n",
       "      <th id=\"T_a7be7_level0_row5\" class=\"row_heading level0 row5\" >smoothness</th>\n",
       "      <td id=\"T_a7be7_row5_col0\" class=\"data row5 col0\" >-0.197616</td>\n",
       "      <td id=\"T_a7be7_row5_col1\" class=\"data row5 col1\" >-0.127121</td>\n",
       "      <td id=\"T_a7be7_row5_col2\" class=\"data row5 col2\" >0.102321</td>\n",
       "      <td id=\"T_a7be7_row5_col3\" class=\"data row5 col3\" >0.269442</td>\n",
       "      <td id=\"T_a7be7_row5_col4\" class=\"data row5 col4\" >0.208438</td>\n",
       "      <td id=\"T_a7be7_row5_col5\" class=\"data row5 col5\" >1.000000</td>\n",
       "      <td id=\"T_a7be7_row5_col6\" class=\"data row5 col6\" >0.465723</td>\n",
       "      <td id=\"T_a7be7_row5_col7\" class=\"data row5 col7\" >0.424203</td>\n",
       "      <td id=\"T_a7be7_row5_col8\" class=\"data row5 col8\" >0.369580</td>\n",
       "    </tr>\n",
       "    <tr>\n",
       "      <th id=\"T_a7be7_level0_row6\" class=\"row_heading level0 row6\" >compactness</th>\n",
       "      <td id=\"T_a7be7_row6_col0\" class=\"data row6 col0\" >-0.512234</td>\n",
       "      <td id=\"T_a7be7_row6_col1\" class=\"data row6 col1\" >-0.191490</td>\n",
       "      <td id=\"T_a7be7_row6_col2\" class=\"data row6 col2\" >0.032446</td>\n",
       "      <td id=\"T_a7be7_row6_col3\" class=\"data row6 col3\" >0.527542</td>\n",
       "      <td id=\"T_a7be7_row6_col4\" class=\"data row6 col4\" >0.424950</td>\n",
       "      <td id=\"T_a7be7_row6_col5\" class=\"data row6 col5\" >0.465723</td>\n",
       "      <td id=\"T_a7be7_row6_col6\" class=\"data row6 col6\" >1.000000</td>\n",
       "      <td id=\"T_a7be7_row6_col7\" class=\"data row6 col7\" >0.681123</td>\n",
       "      <td id=\"T_a7be7_row6_col8\" class=\"data row6 col8\" >0.647953</td>\n",
       "    </tr>\n",
       "    <tr>\n",
       "      <th id=\"T_a7be7_level0_row7\" class=\"row_heading level0 row7\" >symmetry</th>\n",
       "      <td id=\"T_a7be7_row7_col0\" class=\"data row7 col0\" >-0.233028</td>\n",
       "      <td id=\"T_a7be7_row7_col1\" class=\"data row7 col1\" >-0.039707</td>\n",
       "      <td id=\"T_a7be7_row7_col2\" class=\"data row7 col2\" >0.077912</td>\n",
       "      <td id=\"T_a7be7_row7_col3\" class=\"data row7 col3\" >0.195539</td>\n",
       "      <td id=\"T_a7be7_row7_col4\" class=\"data row7 col4\" >0.110435</td>\n",
       "      <td id=\"T_a7be7_row7_col5\" class=\"data row7 col5\" >0.424203</td>\n",
       "      <td id=\"T_a7be7_row7_col6\" class=\"data row7 col6\" >0.681123</td>\n",
       "      <td id=\"T_a7be7_row7_col7\" class=\"data row7 col7\" >1.000000</td>\n",
       "      <td id=\"T_a7be7_row7_col8\" class=\"data row7 col8\" >0.568608</td>\n",
       "    </tr>\n",
       "    <tr>\n",
       "      <th id=\"T_a7be7_level0_row8\" class=\"row_heading level0 row8\" >fractal_dimension</th>\n",
       "      <td id=\"T_a7be7_row8_col0\" class=\"data row8 col0\" >-0.008180</td>\n",
       "      <td id=\"T_a7be7_row8_col1\" class=\"data row8 col1\" >-0.029120</td>\n",
       "      <td id=\"T_a7be7_row8_col2\" class=\"data row8 col2\" >0.139157</td>\n",
       "      <td id=\"T_a7be7_row8_col3\" class=\"data row8 col3\" >-0.195434</td>\n",
       "      <td id=\"T_a7be7_row8_col4\" class=\"data row8 col4\" >-0.274344</td>\n",
       "      <td id=\"T_a7be7_row8_col5\" class=\"data row8 col5\" >0.369580</td>\n",
       "      <td id=\"T_a7be7_row8_col6\" class=\"data row8 col6\" >0.647953</td>\n",
       "      <td id=\"T_a7be7_row8_col7\" class=\"data row8 col7\" >0.568608</td>\n",
       "      <td id=\"T_a7be7_row8_col8\" class=\"data row8 col8\" >1.000000</td>\n",
       "    </tr>\n",
       "  </tbody>\n",
       "</table>\n"
      ],
      "text/plain": [
       "<pandas.io.formats.style.Styler at 0x2276e87f640>"
      ]
     },
     "execution_count": 703,
     "metadata": {},
     "output_type": "execute_result"
    }
   ],
   "source": [
    "corr_matrix = data.corr(method='pearson')\n",
    "corr_matrix.style.background_gradient()"
   ]
  },
  {
   "cell_type": "code",
   "execution_count": 704,
   "id": "2af5c351",
   "metadata": {},
   "outputs": [
    {
     "data": {
      "application/vnd.plotly.v1+json": {
       "config": {
        "plotlyServerURL": "https://plot.ly"
       },
       "data": [
        {
         "dimensions": [
          {
           "axis": {
            "matches": true
           },
           "label": "perimeter",
           "values": [
            151,
            133,
            130,
            78,
            135,
            83,
            120,
            90,
            88,
            84,
            103,
            104,
            132,
            104,
            94,
            97,
            95,
            108,
            130,
            87,
            86,
            60,
            103,
            137,
            110,
            116,
            97,
            122,
            102,
            115,
            125,
            78,
            113,
            128,
            107,
            110,
            94,
            83,
            96,
            88,
            86,
            72,
            128,
            87,
            85,
            124,
            52,
            86,
            78,
            87,
            75,
            87,
            76,
            120,
            97,
            73,
            126,
            96,
            83,
            54,
            65,
            55,
            96,
            59,
            83,
            97,
            60,
            72,
            59,
            81,
            124,
            59,
            114,
            90,
            79,
            104,
            88,
            120,
            144,
            83,
            74,
            86,
            172,
            129,
            77,
            121,
            94,
            122,
            80,
            96,
            95,
            100,
            85,
            87,
            100,
            132,
            78,
            62,
            74,
            94
           ]
          },
          {
           "axis": {
            "matches": true
           },
           "label": "area",
           "values": [
            954,
            1326,
            1203,
            386,
            1297,
            477,
            1040,
            578,
            520,
            476,
            798,
            781,
            1123,
            783,
            578,
            659,
            685,
            799,
            1260,
            566,
            520,
            274,
            704,
            1404,
            905,
            913,
            645,
            1094,
            732,
            955,
            1088,
            441,
            899,
            1162,
            807,
            870,
            633,
            524,
            699,
            559,
            563,
            371,
            1104,
            545,
            532,
            1076,
            202,
            535,
            449,
            561,
            428,
            572,
            438,
            1033,
            713,
            409,
            1152,
            657,
            527,
            225,
            312,
            222,
            646,
            261,
            499,
            668,
            269,
            394,
            251,
            503,
            1130,
            244,
            929,
            584,
            471,
            818,
            559,
            1006,
            1245,
            506,
            402,
            520,
            1878,
            1132,
            443,
            1075,
            648,
            1076,
            466,
            652,
            663,
            728,
            552,
            555,
            706,
            1264,
            451,
            295,
            413,
            643
           ]
          }
         ],
         "hovertemplate": "%{xaxis.title.text}=%{x}<br>%{yaxis.title.text}=%{y}<br>diagnosis_result=%{marker.color}<extra></extra>",
         "legendgroup": "",
         "marker": {
          "color": [
           0,
           1,
           0,
           0,
           0,
           1,
           0,
           0,
           0,
           0,
           0,
           0,
           1,
           0,
           0,
           0,
           0,
           0,
           0,
           1,
           1,
           1,
           0,
           0,
           0,
           0,
           0,
           0,
           0,
           0,
           0,
           0,
           0,
           0,
           0,
           0,
           0,
           1,
           0,
           0,
           0,
           0,
           0,
           0,
           0,
           0,
           1,
           0,
           1,
           1,
           1,
           1,
           1,
           0,
           0,
           1,
           0,
           0,
           1,
           1,
           1,
           1,
           0,
           1,
           0,
           0,
           1,
           1,
           1,
           1,
           0,
           1,
           0,
           0,
           1,
           0,
           1,
           0,
           0,
           1,
           1,
           1,
           0,
           0,
           1,
           0,
           0,
           0,
           1,
           1,
           1,
           0,
           1,
           1,
           0,
           0,
           1,
           1,
           1,
           0
          ],
          "coloraxis": "coloraxis",
          "symbol": "circle"
         },
         "name": "",
         "showlegend": false,
         "type": "splom"
        }
       ],
       "layout": {
        "coloraxis": {
         "colorbar": {
          "title": {
           "text": "diagnosis_result"
          }
         },
         "colorscale": [
          [
           0,
           "#0d0887"
          ],
          [
           0.1111111111111111,
           "#46039f"
          ],
          [
           0.2222222222222222,
           "#7201a8"
          ],
          [
           0.3333333333333333,
           "#9c179e"
          ],
          [
           0.4444444444444444,
           "#bd3786"
          ],
          [
           0.5555555555555556,
           "#d8576b"
          ],
          [
           0.6666666666666666,
           "#ed7953"
          ],
          [
           0.7777777777777778,
           "#fb9f3a"
          ],
          [
           0.8888888888888888,
           "#fdca26"
          ],
          [
           1,
           "#f0f921"
          ]
         ]
        },
        "dragmode": "select",
        "legend": {
         "tracegroupgap": 0
        },
        "margin": {
         "t": 60
        },
        "template": {
         "data": {
          "bar": [
           {
            "error_x": {
             "color": "#2a3f5f"
            },
            "error_y": {
             "color": "#2a3f5f"
            },
            "marker": {
             "line": {
              "color": "#E5ECF6",
              "width": 0.5
             },
             "pattern": {
              "fillmode": "overlay",
              "size": 10,
              "solidity": 0.2
             }
            },
            "type": "bar"
           }
          ],
          "barpolar": [
           {
            "marker": {
             "line": {
              "color": "#E5ECF6",
              "width": 0.5
             },
             "pattern": {
              "fillmode": "overlay",
              "size": 10,
              "solidity": 0.2
             }
            },
            "type": "barpolar"
           }
          ],
          "carpet": [
           {
            "aaxis": {
             "endlinecolor": "#2a3f5f",
             "gridcolor": "white",
             "linecolor": "white",
             "minorgridcolor": "white",
             "startlinecolor": "#2a3f5f"
            },
            "baxis": {
             "endlinecolor": "#2a3f5f",
             "gridcolor": "white",
             "linecolor": "white",
             "minorgridcolor": "white",
             "startlinecolor": "#2a3f5f"
            },
            "type": "carpet"
           }
          ],
          "choropleth": [
           {
            "colorbar": {
             "outlinewidth": 0,
             "ticks": ""
            },
            "type": "choropleth"
           }
          ],
          "contour": [
           {
            "colorbar": {
             "outlinewidth": 0,
             "ticks": ""
            },
            "colorscale": [
             [
              0,
              "#0d0887"
             ],
             [
              0.1111111111111111,
              "#46039f"
             ],
             [
              0.2222222222222222,
              "#7201a8"
             ],
             [
              0.3333333333333333,
              "#9c179e"
             ],
             [
              0.4444444444444444,
              "#bd3786"
             ],
             [
              0.5555555555555556,
              "#d8576b"
             ],
             [
              0.6666666666666666,
              "#ed7953"
             ],
             [
              0.7777777777777778,
              "#fb9f3a"
             ],
             [
              0.8888888888888888,
              "#fdca26"
             ],
             [
              1,
              "#f0f921"
             ]
            ],
            "type": "contour"
           }
          ],
          "contourcarpet": [
           {
            "colorbar": {
             "outlinewidth": 0,
             "ticks": ""
            },
            "type": "contourcarpet"
           }
          ],
          "heatmap": [
           {
            "colorbar": {
             "outlinewidth": 0,
             "ticks": ""
            },
            "colorscale": [
             [
              0,
              "#0d0887"
             ],
             [
              0.1111111111111111,
              "#46039f"
             ],
             [
              0.2222222222222222,
              "#7201a8"
             ],
             [
              0.3333333333333333,
              "#9c179e"
             ],
             [
              0.4444444444444444,
              "#bd3786"
             ],
             [
              0.5555555555555556,
              "#d8576b"
             ],
             [
              0.6666666666666666,
              "#ed7953"
             ],
             [
              0.7777777777777778,
              "#fb9f3a"
             ],
             [
              0.8888888888888888,
              "#fdca26"
             ],
             [
              1,
              "#f0f921"
             ]
            ],
            "type": "heatmap"
           }
          ],
          "heatmapgl": [
           {
            "colorbar": {
             "outlinewidth": 0,
             "ticks": ""
            },
            "colorscale": [
             [
              0,
              "#0d0887"
             ],
             [
              0.1111111111111111,
              "#46039f"
             ],
             [
              0.2222222222222222,
              "#7201a8"
             ],
             [
              0.3333333333333333,
              "#9c179e"
             ],
             [
              0.4444444444444444,
              "#bd3786"
             ],
             [
              0.5555555555555556,
              "#d8576b"
             ],
             [
              0.6666666666666666,
              "#ed7953"
             ],
             [
              0.7777777777777778,
              "#fb9f3a"
             ],
             [
              0.8888888888888888,
              "#fdca26"
             ],
             [
              1,
              "#f0f921"
             ]
            ],
            "type": "heatmapgl"
           }
          ],
          "histogram": [
           {
            "marker": {
             "pattern": {
              "fillmode": "overlay",
              "size": 10,
              "solidity": 0.2
             }
            },
            "type": "histogram"
           }
          ],
          "histogram2d": [
           {
            "colorbar": {
             "outlinewidth": 0,
             "ticks": ""
            },
            "colorscale": [
             [
              0,
              "#0d0887"
             ],
             [
              0.1111111111111111,
              "#46039f"
             ],
             [
              0.2222222222222222,
              "#7201a8"
             ],
             [
              0.3333333333333333,
              "#9c179e"
             ],
             [
              0.4444444444444444,
              "#bd3786"
             ],
             [
              0.5555555555555556,
              "#d8576b"
             ],
             [
              0.6666666666666666,
              "#ed7953"
             ],
             [
              0.7777777777777778,
              "#fb9f3a"
             ],
             [
              0.8888888888888888,
              "#fdca26"
             ],
             [
              1,
              "#f0f921"
             ]
            ],
            "type": "histogram2d"
           }
          ],
          "histogram2dcontour": [
           {
            "colorbar": {
             "outlinewidth": 0,
             "ticks": ""
            },
            "colorscale": [
             [
              0,
              "#0d0887"
             ],
             [
              0.1111111111111111,
              "#46039f"
             ],
             [
              0.2222222222222222,
              "#7201a8"
             ],
             [
              0.3333333333333333,
              "#9c179e"
             ],
             [
              0.4444444444444444,
              "#bd3786"
             ],
             [
              0.5555555555555556,
              "#d8576b"
             ],
             [
              0.6666666666666666,
              "#ed7953"
             ],
             [
              0.7777777777777778,
              "#fb9f3a"
             ],
             [
              0.8888888888888888,
              "#fdca26"
             ],
             [
              1,
              "#f0f921"
             ]
            ],
            "type": "histogram2dcontour"
           }
          ],
          "mesh3d": [
           {
            "colorbar": {
             "outlinewidth": 0,
             "ticks": ""
            },
            "type": "mesh3d"
           }
          ],
          "parcoords": [
           {
            "line": {
             "colorbar": {
              "outlinewidth": 0,
              "ticks": ""
             }
            },
            "type": "parcoords"
           }
          ],
          "pie": [
           {
            "automargin": true,
            "type": "pie"
           }
          ],
          "scatter": [
           {
            "fillpattern": {
             "fillmode": "overlay",
             "size": 10,
             "solidity": 0.2
            },
            "type": "scatter"
           }
          ],
          "scatter3d": [
           {
            "line": {
             "colorbar": {
              "outlinewidth": 0,
              "ticks": ""
             }
            },
            "marker": {
             "colorbar": {
              "outlinewidth": 0,
              "ticks": ""
             }
            },
            "type": "scatter3d"
           }
          ],
          "scattercarpet": [
           {
            "marker": {
             "colorbar": {
              "outlinewidth": 0,
              "ticks": ""
             }
            },
            "type": "scattercarpet"
           }
          ],
          "scattergeo": [
           {
            "marker": {
             "colorbar": {
              "outlinewidth": 0,
              "ticks": ""
             }
            },
            "type": "scattergeo"
           }
          ],
          "scattergl": [
           {
            "marker": {
             "colorbar": {
              "outlinewidth": 0,
              "ticks": ""
             }
            },
            "type": "scattergl"
           }
          ],
          "scattermapbox": [
           {
            "marker": {
             "colorbar": {
              "outlinewidth": 0,
              "ticks": ""
             }
            },
            "type": "scattermapbox"
           }
          ],
          "scatterpolar": [
           {
            "marker": {
             "colorbar": {
              "outlinewidth": 0,
              "ticks": ""
             }
            },
            "type": "scatterpolar"
           }
          ],
          "scatterpolargl": [
           {
            "marker": {
             "colorbar": {
              "outlinewidth": 0,
              "ticks": ""
             }
            },
            "type": "scatterpolargl"
           }
          ],
          "scatterternary": [
           {
            "marker": {
             "colorbar": {
              "outlinewidth": 0,
              "ticks": ""
             }
            },
            "type": "scatterternary"
           }
          ],
          "surface": [
           {
            "colorbar": {
             "outlinewidth": 0,
             "ticks": ""
            },
            "colorscale": [
             [
              0,
              "#0d0887"
             ],
             [
              0.1111111111111111,
              "#46039f"
             ],
             [
              0.2222222222222222,
              "#7201a8"
             ],
             [
              0.3333333333333333,
              "#9c179e"
             ],
             [
              0.4444444444444444,
              "#bd3786"
             ],
             [
              0.5555555555555556,
              "#d8576b"
             ],
             [
              0.6666666666666666,
              "#ed7953"
             ],
             [
              0.7777777777777778,
              "#fb9f3a"
             ],
             [
              0.8888888888888888,
              "#fdca26"
             ],
             [
              1,
              "#f0f921"
             ]
            ],
            "type": "surface"
           }
          ],
          "table": [
           {
            "cells": {
             "fill": {
              "color": "#EBF0F8"
             },
             "line": {
              "color": "white"
             }
            },
            "header": {
             "fill": {
              "color": "#C8D4E3"
             },
             "line": {
              "color": "white"
             }
            },
            "type": "table"
           }
          ]
         },
         "layout": {
          "annotationdefaults": {
           "arrowcolor": "#2a3f5f",
           "arrowhead": 0,
           "arrowwidth": 1
          },
          "autotypenumbers": "strict",
          "coloraxis": {
           "colorbar": {
            "outlinewidth": 0,
            "ticks": ""
           }
          },
          "colorscale": {
           "diverging": [
            [
             0,
             "#8e0152"
            ],
            [
             0.1,
             "#c51b7d"
            ],
            [
             0.2,
             "#de77ae"
            ],
            [
             0.3,
             "#f1b6da"
            ],
            [
             0.4,
             "#fde0ef"
            ],
            [
             0.5,
             "#f7f7f7"
            ],
            [
             0.6,
             "#e6f5d0"
            ],
            [
             0.7,
             "#b8e186"
            ],
            [
             0.8,
             "#7fbc41"
            ],
            [
             0.9,
             "#4d9221"
            ],
            [
             1,
             "#276419"
            ]
           ],
           "sequential": [
            [
             0,
             "#0d0887"
            ],
            [
             0.1111111111111111,
             "#46039f"
            ],
            [
             0.2222222222222222,
             "#7201a8"
            ],
            [
             0.3333333333333333,
             "#9c179e"
            ],
            [
             0.4444444444444444,
             "#bd3786"
            ],
            [
             0.5555555555555556,
             "#d8576b"
            ],
            [
             0.6666666666666666,
             "#ed7953"
            ],
            [
             0.7777777777777778,
             "#fb9f3a"
            ],
            [
             0.8888888888888888,
             "#fdca26"
            ],
            [
             1,
             "#f0f921"
            ]
           ],
           "sequentialminus": [
            [
             0,
             "#0d0887"
            ],
            [
             0.1111111111111111,
             "#46039f"
            ],
            [
             0.2222222222222222,
             "#7201a8"
            ],
            [
             0.3333333333333333,
             "#9c179e"
            ],
            [
             0.4444444444444444,
             "#bd3786"
            ],
            [
             0.5555555555555556,
             "#d8576b"
            ],
            [
             0.6666666666666666,
             "#ed7953"
            ],
            [
             0.7777777777777778,
             "#fb9f3a"
            ],
            [
             0.8888888888888888,
             "#fdca26"
            ],
            [
             1,
             "#f0f921"
            ]
           ]
          },
          "colorway": [
           "#636efa",
           "#EF553B",
           "#00cc96",
           "#ab63fa",
           "#FFA15A",
           "#19d3f3",
           "#FF6692",
           "#B6E880",
           "#FF97FF",
           "#FECB52"
          ],
          "font": {
           "color": "#2a3f5f"
          },
          "geo": {
           "bgcolor": "white",
           "lakecolor": "white",
           "landcolor": "#E5ECF6",
           "showlakes": true,
           "showland": true,
           "subunitcolor": "white"
          },
          "hoverlabel": {
           "align": "left"
          },
          "hovermode": "closest",
          "mapbox": {
           "style": "light"
          },
          "paper_bgcolor": "white",
          "plot_bgcolor": "#E5ECF6",
          "polar": {
           "angularaxis": {
            "gridcolor": "white",
            "linecolor": "white",
            "ticks": ""
           },
           "bgcolor": "#E5ECF6",
           "radialaxis": {
            "gridcolor": "white",
            "linecolor": "white",
            "ticks": ""
           }
          },
          "scene": {
           "xaxis": {
            "backgroundcolor": "#E5ECF6",
            "gridcolor": "white",
            "gridwidth": 2,
            "linecolor": "white",
            "showbackground": true,
            "ticks": "",
            "zerolinecolor": "white"
           },
           "yaxis": {
            "backgroundcolor": "#E5ECF6",
            "gridcolor": "white",
            "gridwidth": 2,
            "linecolor": "white",
            "showbackground": true,
            "ticks": "",
            "zerolinecolor": "white"
           },
           "zaxis": {
            "backgroundcolor": "#E5ECF6",
            "gridcolor": "white",
            "gridwidth": 2,
            "linecolor": "white",
            "showbackground": true,
            "ticks": "",
            "zerolinecolor": "white"
           }
          },
          "shapedefaults": {
           "line": {
            "color": "#2a3f5f"
           }
          },
          "ternary": {
           "aaxis": {
            "gridcolor": "white",
            "linecolor": "white",
            "ticks": ""
           },
           "baxis": {
            "gridcolor": "white",
            "linecolor": "white",
            "ticks": ""
           },
           "bgcolor": "#E5ECF6",
           "caxis": {
            "gridcolor": "white",
            "linecolor": "white",
            "ticks": ""
           }
          },
          "title": {
           "x": 0.05
          },
          "xaxis": {
           "automargin": true,
           "gridcolor": "white",
           "linecolor": "white",
           "ticks": "",
           "title": {
            "standoff": 15
           },
           "zerolinecolor": "white",
           "zerolinewidth": 2
          },
          "yaxis": {
           "automargin": true,
           "gridcolor": "white",
           "linecolor": "white",
           "ticks": "",
           "title": {
            "standoff": 15
           },
           "zerolinecolor": "white",
           "zerolinewidth": 2
          }
         }
        }
       }
      },
      "text/html": [
       "<div>                            <div id=\"e73cd9ee-373c-4ce5-8211-599f43a14b3a\" class=\"plotly-graph-div\" style=\"height:525px; width:100%;\"></div>            <script type=\"text/javascript\">                require([\"plotly\"], function(Plotly) {                    window.PLOTLYENV=window.PLOTLYENV || {};                                    if (document.getElementById(\"e73cd9ee-373c-4ce5-8211-599f43a14b3a\")) {                    Plotly.newPlot(                        \"e73cd9ee-373c-4ce5-8211-599f43a14b3a\",                        [{\"dimensions\":[{\"axis\":{\"matches\":true},\"label\":\"perimeter\",\"values\":[151,133,130,78,135,83,120,90,88,84,103,104,132,104,94,97,95,108,130,87,86,60,103,137,110,116,97,122,102,115,125,78,113,128,107,110,94,83,96,88,86,72,128,87,85,124,52,86,78,87,75,87,76,120,97,73,126,96,83,54,65,55,96,59,83,97,60,72,59,81,124,59,114,90,79,104,88,120,144,83,74,86,172,129,77,121,94,122,80,96,95,100,85,87,100,132,78,62,74,94]},{\"axis\":{\"matches\":true},\"label\":\"area\",\"values\":[954,1326,1203,386,1297,477,1040,578,520,476,798,781,1123,783,578,659,685,799,1260,566,520,274,704,1404,905,913,645,1094,732,955,1088,441,899,1162,807,870,633,524,699,559,563,371,1104,545,532,1076,202,535,449,561,428,572,438,1033,713,409,1152,657,527,225,312,222,646,261,499,668,269,394,251,503,1130,244,929,584,471,818,559,1006,1245,506,402,520,1878,1132,443,1075,648,1076,466,652,663,728,552,555,706,1264,451,295,413,643]}],\"hovertemplate\":\"%{xaxis.title.text}=%{x}<br>%{yaxis.title.text}=%{y}<br>diagnosis_result=%{marker.color}<extra></extra>\",\"legendgroup\":\"\",\"marker\":{\"color\":[0,1,0,0,0,1,0,0,0,0,0,0,1,0,0,0,0,0,0,1,1,1,0,0,0,0,0,0,0,0,0,0,0,0,0,0,0,1,0,0,0,0,0,0,0,0,1,0,1,1,1,1,1,0,0,1,0,0,1,1,1,1,0,1,0,0,1,1,1,1,0,1,0,0,1,0,1,0,0,1,1,1,0,0,1,0,0,0,1,1,1,0,1,1,0,0,1,1,1,0],\"coloraxis\":\"coloraxis\",\"symbol\":\"circle\"},\"name\":\"\",\"showlegend\":false,\"type\":\"splom\"}],                        {\"template\":{\"data\":{\"histogram2dcontour\":[{\"type\":\"histogram2dcontour\",\"colorbar\":{\"outlinewidth\":0,\"ticks\":\"\"},\"colorscale\":[[0.0,\"#0d0887\"],[0.1111111111111111,\"#46039f\"],[0.2222222222222222,\"#7201a8\"],[0.3333333333333333,\"#9c179e\"],[0.4444444444444444,\"#bd3786\"],[0.5555555555555556,\"#d8576b\"],[0.6666666666666666,\"#ed7953\"],[0.7777777777777778,\"#fb9f3a\"],[0.8888888888888888,\"#fdca26\"],[1.0,\"#f0f921\"]]}],\"choropleth\":[{\"type\":\"choropleth\",\"colorbar\":{\"outlinewidth\":0,\"ticks\":\"\"}}],\"histogram2d\":[{\"type\":\"histogram2d\",\"colorbar\":{\"outlinewidth\":0,\"ticks\":\"\"},\"colorscale\":[[0.0,\"#0d0887\"],[0.1111111111111111,\"#46039f\"],[0.2222222222222222,\"#7201a8\"],[0.3333333333333333,\"#9c179e\"],[0.4444444444444444,\"#bd3786\"],[0.5555555555555556,\"#d8576b\"],[0.6666666666666666,\"#ed7953\"],[0.7777777777777778,\"#fb9f3a\"],[0.8888888888888888,\"#fdca26\"],[1.0,\"#f0f921\"]]}],\"heatmap\":[{\"type\":\"heatmap\",\"colorbar\":{\"outlinewidth\":0,\"ticks\":\"\"},\"colorscale\":[[0.0,\"#0d0887\"],[0.1111111111111111,\"#46039f\"],[0.2222222222222222,\"#7201a8\"],[0.3333333333333333,\"#9c179e\"],[0.4444444444444444,\"#bd3786\"],[0.5555555555555556,\"#d8576b\"],[0.6666666666666666,\"#ed7953\"],[0.7777777777777778,\"#fb9f3a\"],[0.8888888888888888,\"#fdca26\"],[1.0,\"#f0f921\"]]}],\"heatmapgl\":[{\"type\":\"heatmapgl\",\"colorbar\":{\"outlinewidth\":0,\"ticks\":\"\"},\"colorscale\":[[0.0,\"#0d0887\"],[0.1111111111111111,\"#46039f\"],[0.2222222222222222,\"#7201a8\"],[0.3333333333333333,\"#9c179e\"],[0.4444444444444444,\"#bd3786\"],[0.5555555555555556,\"#d8576b\"],[0.6666666666666666,\"#ed7953\"],[0.7777777777777778,\"#fb9f3a\"],[0.8888888888888888,\"#fdca26\"],[1.0,\"#f0f921\"]]}],\"contourcarpet\":[{\"type\":\"contourcarpet\",\"colorbar\":{\"outlinewidth\":0,\"ticks\":\"\"}}],\"contour\":[{\"type\":\"contour\",\"colorbar\":{\"outlinewidth\":0,\"ticks\":\"\"},\"colorscale\":[[0.0,\"#0d0887\"],[0.1111111111111111,\"#46039f\"],[0.2222222222222222,\"#7201a8\"],[0.3333333333333333,\"#9c179e\"],[0.4444444444444444,\"#bd3786\"],[0.5555555555555556,\"#d8576b\"],[0.6666666666666666,\"#ed7953\"],[0.7777777777777778,\"#fb9f3a\"],[0.8888888888888888,\"#fdca26\"],[1.0,\"#f0f921\"]]}],\"surface\":[{\"type\":\"surface\",\"colorbar\":{\"outlinewidth\":0,\"ticks\":\"\"},\"colorscale\":[[0.0,\"#0d0887\"],[0.1111111111111111,\"#46039f\"],[0.2222222222222222,\"#7201a8\"],[0.3333333333333333,\"#9c179e\"],[0.4444444444444444,\"#bd3786\"],[0.5555555555555556,\"#d8576b\"],[0.6666666666666666,\"#ed7953\"],[0.7777777777777778,\"#fb9f3a\"],[0.8888888888888888,\"#fdca26\"],[1.0,\"#f0f921\"]]}],\"mesh3d\":[{\"type\":\"mesh3d\",\"colorbar\":{\"outlinewidth\":0,\"ticks\":\"\"}}],\"scatter\":[{\"fillpattern\":{\"fillmode\":\"overlay\",\"size\":10,\"solidity\":0.2},\"type\":\"scatter\"}],\"parcoords\":[{\"type\":\"parcoords\",\"line\":{\"colorbar\":{\"outlinewidth\":0,\"ticks\":\"\"}}}],\"scatterpolargl\":[{\"type\":\"scatterpolargl\",\"marker\":{\"colorbar\":{\"outlinewidth\":0,\"ticks\":\"\"}}}],\"bar\":[{\"error_x\":{\"color\":\"#2a3f5f\"},\"error_y\":{\"color\":\"#2a3f5f\"},\"marker\":{\"line\":{\"color\":\"#E5ECF6\",\"width\":0.5},\"pattern\":{\"fillmode\":\"overlay\",\"size\":10,\"solidity\":0.2}},\"type\":\"bar\"}],\"scattergeo\":[{\"type\":\"scattergeo\",\"marker\":{\"colorbar\":{\"outlinewidth\":0,\"ticks\":\"\"}}}],\"scatterpolar\":[{\"type\":\"scatterpolar\",\"marker\":{\"colorbar\":{\"outlinewidth\":0,\"ticks\":\"\"}}}],\"histogram\":[{\"marker\":{\"pattern\":{\"fillmode\":\"overlay\",\"size\":10,\"solidity\":0.2}},\"type\":\"histogram\"}],\"scattergl\":[{\"type\":\"scattergl\",\"marker\":{\"colorbar\":{\"outlinewidth\":0,\"ticks\":\"\"}}}],\"scatter3d\":[{\"type\":\"scatter3d\",\"line\":{\"colorbar\":{\"outlinewidth\":0,\"ticks\":\"\"}},\"marker\":{\"colorbar\":{\"outlinewidth\":0,\"ticks\":\"\"}}}],\"scattermapbox\":[{\"type\":\"scattermapbox\",\"marker\":{\"colorbar\":{\"outlinewidth\":0,\"ticks\":\"\"}}}],\"scatterternary\":[{\"type\":\"scatterternary\",\"marker\":{\"colorbar\":{\"outlinewidth\":0,\"ticks\":\"\"}}}],\"scattercarpet\":[{\"type\":\"scattercarpet\",\"marker\":{\"colorbar\":{\"outlinewidth\":0,\"ticks\":\"\"}}}],\"carpet\":[{\"aaxis\":{\"endlinecolor\":\"#2a3f5f\",\"gridcolor\":\"white\",\"linecolor\":\"white\",\"minorgridcolor\":\"white\",\"startlinecolor\":\"#2a3f5f\"},\"baxis\":{\"endlinecolor\":\"#2a3f5f\",\"gridcolor\":\"white\",\"linecolor\":\"white\",\"minorgridcolor\":\"white\",\"startlinecolor\":\"#2a3f5f\"},\"type\":\"carpet\"}],\"table\":[{\"cells\":{\"fill\":{\"color\":\"#EBF0F8\"},\"line\":{\"color\":\"white\"}},\"header\":{\"fill\":{\"color\":\"#C8D4E3\"},\"line\":{\"color\":\"white\"}},\"type\":\"table\"}],\"barpolar\":[{\"marker\":{\"line\":{\"color\":\"#E5ECF6\",\"width\":0.5},\"pattern\":{\"fillmode\":\"overlay\",\"size\":10,\"solidity\":0.2}},\"type\":\"barpolar\"}],\"pie\":[{\"automargin\":true,\"type\":\"pie\"}]},\"layout\":{\"autotypenumbers\":\"strict\",\"colorway\":[\"#636efa\",\"#EF553B\",\"#00cc96\",\"#ab63fa\",\"#FFA15A\",\"#19d3f3\",\"#FF6692\",\"#B6E880\",\"#FF97FF\",\"#FECB52\"],\"font\":{\"color\":\"#2a3f5f\"},\"hovermode\":\"closest\",\"hoverlabel\":{\"align\":\"left\"},\"paper_bgcolor\":\"white\",\"plot_bgcolor\":\"#E5ECF6\",\"polar\":{\"bgcolor\":\"#E5ECF6\",\"angularaxis\":{\"gridcolor\":\"white\",\"linecolor\":\"white\",\"ticks\":\"\"},\"radialaxis\":{\"gridcolor\":\"white\",\"linecolor\":\"white\",\"ticks\":\"\"}},\"ternary\":{\"bgcolor\":\"#E5ECF6\",\"aaxis\":{\"gridcolor\":\"white\",\"linecolor\":\"white\",\"ticks\":\"\"},\"baxis\":{\"gridcolor\":\"white\",\"linecolor\":\"white\",\"ticks\":\"\"},\"caxis\":{\"gridcolor\":\"white\",\"linecolor\":\"white\",\"ticks\":\"\"}},\"coloraxis\":{\"colorbar\":{\"outlinewidth\":0,\"ticks\":\"\"}},\"colorscale\":{\"sequential\":[[0.0,\"#0d0887\"],[0.1111111111111111,\"#46039f\"],[0.2222222222222222,\"#7201a8\"],[0.3333333333333333,\"#9c179e\"],[0.4444444444444444,\"#bd3786\"],[0.5555555555555556,\"#d8576b\"],[0.6666666666666666,\"#ed7953\"],[0.7777777777777778,\"#fb9f3a\"],[0.8888888888888888,\"#fdca26\"],[1.0,\"#f0f921\"]],\"sequentialminus\":[[0.0,\"#0d0887\"],[0.1111111111111111,\"#46039f\"],[0.2222222222222222,\"#7201a8\"],[0.3333333333333333,\"#9c179e\"],[0.4444444444444444,\"#bd3786\"],[0.5555555555555556,\"#d8576b\"],[0.6666666666666666,\"#ed7953\"],[0.7777777777777778,\"#fb9f3a\"],[0.8888888888888888,\"#fdca26\"],[1.0,\"#f0f921\"]],\"diverging\":[[0,\"#8e0152\"],[0.1,\"#c51b7d\"],[0.2,\"#de77ae\"],[0.3,\"#f1b6da\"],[0.4,\"#fde0ef\"],[0.5,\"#f7f7f7\"],[0.6,\"#e6f5d0\"],[0.7,\"#b8e186\"],[0.8,\"#7fbc41\"],[0.9,\"#4d9221\"],[1,\"#276419\"]]},\"xaxis\":{\"gridcolor\":\"white\",\"linecolor\":\"white\",\"ticks\":\"\",\"title\":{\"standoff\":15},\"zerolinecolor\":\"white\",\"automargin\":true,\"zerolinewidth\":2},\"yaxis\":{\"gridcolor\":\"white\",\"linecolor\":\"white\",\"ticks\":\"\",\"title\":{\"standoff\":15},\"zerolinecolor\":\"white\",\"automargin\":true,\"zerolinewidth\":2},\"scene\":{\"xaxis\":{\"backgroundcolor\":\"#E5ECF6\",\"gridcolor\":\"white\",\"linecolor\":\"white\",\"showbackground\":true,\"ticks\":\"\",\"zerolinecolor\":\"white\",\"gridwidth\":2},\"yaxis\":{\"backgroundcolor\":\"#E5ECF6\",\"gridcolor\":\"white\",\"linecolor\":\"white\",\"showbackground\":true,\"ticks\":\"\",\"zerolinecolor\":\"white\",\"gridwidth\":2},\"zaxis\":{\"backgroundcolor\":\"#E5ECF6\",\"gridcolor\":\"white\",\"linecolor\":\"white\",\"showbackground\":true,\"ticks\":\"\",\"zerolinecolor\":\"white\",\"gridwidth\":2}},\"shapedefaults\":{\"line\":{\"color\":\"#2a3f5f\"}},\"annotationdefaults\":{\"arrowcolor\":\"#2a3f5f\",\"arrowhead\":0,\"arrowwidth\":1},\"geo\":{\"bgcolor\":\"white\",\"landcolor\":\"#E5ECF6\",\"subunitcolor\":\"white\",\"showland\":true,\"showlakes\":true,\"lakecolor\":\"white\"},\"title\":{\"x\":0.05},\"mapbox\":{\"style\":\"light\"}}},\"coloraxis\":{\"colorbar\":{\"title\":{\"text\":\"diagnosis_result\"}},\"colorscale\":[[0.0,\"#0d0887\"],[0.1111111111111111,\"#46039f\"],[0.2222222222222222,\"#7201a8\"],[0.3333333333333333,\"#9c179e\"],[0.4444444444444444,\"#bd3786\"],[0.5555555555555556,\"#d8576b\"],[0.6666666666666666,\"#ed7953\"],[0.7777777777777778,\"#fb9f3a\"],[0.8888888888888888,\"#fdca26\"],[1.0,\"#f0f921\"]]},\"legend\":{\"tracegroupgap\":0},\"margin\":{\"t\":60},\"dragmode\":\"select\"},                        {\"responsive\": true}                    ).then(function(){\n",
       "                            \n",
       "var gd = document.getElementById('e73cd9ee-373c-4ce5-8211-599f43a14b3a');\n",
       "var x = new MutationObserver(function (mutations, observer) {{\n",
       "        var display = window.getComputedStyle(gd).display;\n",
       "        if (!display || display === 'none') {{\n",
       "            console.log([gd, 'removed!']);\n",
       "            Plotly.purge(gd);\n",
       "            observer.disconnect();\n",
       "        }}\n",
       "}});\n",
       "\n",
       "// Listen for the removal of the full notebook cells\n",
       "var notebookContainer = gd.closest('#notebook-container');\n",
       "if (notebookContainer) {{\n",
       "    x.observe(notebookContainer, {childList: true});\n",
       "}}\n",
       "\n",
       "// Listen for the clearing of the current output cell\n",
       "var outputEl = gd.closest('.output');\n",
       "if (outputEl) {{\n",
       "    x.observe(outputEl, {childList: true});\n",
       "}}\n",
       "\n",
       "                        })                };                });            </script>        </div>"
      ]
     },
     "metadata": {},
     "output_type": "display_data"
    }
   ],
   "source": [
    "graphic = px.scatter_matrix(data, dimensions=['perimeter', 'area'], color = 'diagnosis_result')\n",
    "graphic.show()"
   ]
  },
  {
   "cell_type": "code",
   "execution_count": 705,
   "id": "f98c6dd9",
   "metadata": {},
   "outputs": [
    {
     "data": {
      "text/plain": [
       "Index(['diagnosis_result', 'radius', 'texture', 'area', 'smoothness',\n",
       "       'compactness', 'symmetry', 'fractal_dimension'],\n",
       "      dtype='object')"
      ]
     },
     "execution_count": 705,
     "metadata": {},
     "output_type": "execute_result"
    }
   ],
   "source": [
    "data = data.drop(['perimeter', ], axis=1)\n",
    "data.columns"
   ]
  },
  {
   "cell_type": "code",
   "execution_count": 706,
   "id": "21d71963",
   "metadata": {},
   "outputs": [],
   "source": [
    "x = data.iloc[:,2:].values"
   ]
  },
  {
   "cell_type": "code",
   "execution_count": 707,
   "id": "51661e06",
   "metadata": {},
   "outputs": [
    {
     "data": {
      "text/plain": [
       "array([[1.200e+01, 9.540e+02, 1.430e-01, 2.780e-01, 2.420e-01, 7.900e-02],\n",
       "       [1.300e+01, 1.326e+03, 1.430e-01, 7.900e-02, 1.810e-01, 5.700e-02],\n",
       "       [2.700e+01, 1.203e+03, 1.250e-01, 1.600e-01, 2.070e-01, 6.000e-02],\n",
       "       [1.600e+01, 3.860e+02, 7.000e-02, 2.840e-01, 2.600e-01, 9.700e-02],\n",
       "       [1.900e+01, 1.297e+03, 1.410e-01, 1.330e-01, 1.810e-01, 5.900e-02],\n",
       "       [2.500e+01, 4.770e+02, 1.280e-01, 1.700e-01, 2.090e-01, 7.600e-02],\n",
       "       [2.600e+01, 1.040e+03, 9.500e-02, 1.090e-01, 1.790e-01, 5.700e-02],\n",
       "       [1.800e+01, 5.780e+02, 1.190e-01, 1.650e-01, 2.200e-01, 7.500e-02],\n",
       "       [2.400e+01, 5.200e+02, 1.270e-01, 1.930e-01, 2.350e-01, 7.400e-02],\n",
       "       [1.100e+01, 4.760e+02, 1.190e-01, 2.400e-01, 2.030e-01, 8.200e-02],\n",
       "       [2.100e+01, 7.980e+02, 8.200e-02, 6.700e-02, 1.530e-01, 5.700e-02],\n",
       "       [1.500e+01, 7.810e+02, 9.700e-02, 1.290e-01, 1.840e-01, 6.100e-02],\n",
       "       [1.500e+01, 1.123e+03, 9.700e-02, 2.460e-01, 2.400e-01, 7.800e-02],\n",
       "       [2.200e+01, 7.830e+02, 8.400e-02, 1.000e-01, 1.850e-01, 5.300e-02],\n",
       "       [1.300e+01, 5.780e+02, 1.130e-01, 2.290e-01, 2.070e-01, 7.700e-02],\n",
       "       [1.900e+01, 6.590e+02, 1.140e-01, 1.600e-01, 2.300e-01, 7.100e-02],\n",
       "       [1.600e+01, 6.850e+02, 9.900e-02, 7.200e-02, 1.590e-01, 5.900e-02],\n",
       "       [1.400e+01, 7.990e+02, 1.170e-01, 2.020e-01, 2.160e-01, 7.400e-02],\n",
       "       [1.400e+01, 1.260e+03, 9.800e-02, 1.030e-01, 1.580e-01, 5.400e-02],\n",
       "       [1.100e+01, 5.660e+02, 9.800e-02, 8.100e-02, 1.890e-01, 5.800e-02],\n",
       "       [1.400e+01, 5.200e+02, 1.080e-01, 1.270e-01, 1.970e-01, 6.800e-02],\n",
       "       [2.400e+01, 2.740e+02, 1.020e-01, 6.500e-02, 1.820e-01, 6.900e-02],\n",
       "       [2.700e+01, 7.040e+02, 1.070e-01, 2.140e-01, 2.520e-01, 7.000e-02],\n",
       "       [1.200e+01, 1.404e+03, 9.400e-02, 1.020e-01, 1.770e-01, 5.300e-02],\n",
       "       [1.300e+01, 9.050e+02, 1.120e-01, 1.460e-01, 2.000e-01, 6.300e-02],\n",
       "       [2.700e+01, 9.130e+02, 1.190e-01, 2.280e-01, 3.040e-01, 7.400e-02],\n",
       "       [2.400e+01, 6.450e+02, 1.050e-01, 1.870e-01, 2.250e-01, 6.900e-02],\n",
       "       [2.400e+01, 1.094e+03, 9.400e-02, 1.070e-01, 1.700e-01, 5.700e-02],\n",
       "       [1.500e+01, 7.320e+02, 1.080e-01, 1.700e-01, 1.930e-01, 6.500e-02],\n",
       "       [1.600e+01, 9.550e+02, 9.800e-02, 1.160e-01, 1.740e-01, 6.100e-02],\n",
       "       [2.200e+01, 1.088e+03, 1.060e-01, 1.890e-01, 2.180e-01, 6.200e-02],\n",
       "       [2.600e+01, 4.410e+02, 1.110e-01, 1.520e-01, 2.300e-01, 7.800e-02],\n",
       "       [1.800e+01, 8.990e+02, 1.200e-01, 1.500e-01, 2.250e-01, 6.400e-02],\n",
       "       [2.100e+01, 1.162e+03, 9.400e-02, 1.720e-01, 1.850e-01, 6.300e-02],\n",
       "       [2.300e+01, 8.070e+02, 1.040e-01, 1.560e-01, 2.000e-01, 6.500e-02],\n",
       "       [1.300e+01, 8.700e+02, 9.600e-02, 1.340e-01, 1.900e-01, 5.700e-02],\n",
       "       [1.200e+01, 6.330e+02, 9.800e-02, 1.100e-01, 1.890e-01, 6.100e-02],\n",
       "       [1.100e+01, 5.240e+02, 9.000e-02, 3.800e-02, 1.470e-01, 5.900e-02],\n",
       "       [1.500e+01, 6.990e+02, 9.400e-02, 5.100e-02, 1.570e-01, 5.500e-02],\n",
       "       [1.400e+01, 5.590e+02, 1.020e-01, 1.260e-01, 1.720e-01, 6.400e-02],\n",
       "       [1.600e+01, 5.630e+02, 8.200e-02, 6.000e-02, 1.780e-01, 5.600e-02],\n",
       "       [2.700e+01, 3.710e+02, 1.230e-01, 1.220e-01, 1.900e-01, 6.900e-02],\n",
       "       [1.100e+01, 1.104e+03, 9.100e-02, 2.190e-01, 2.310e-01, 6.300e-02],\n",
       "       [2.100e+01, 5.450e+02, 1.040e-01, 1.440e-01, 1.970e-01, 6.800e-02],\n",
       "       [1.500e+01, 5.320e+02, 9.700e-02, 1.050e-01, 1.750e-01, 6.200e-02],\n",
       "       [1.100e+01, 1.076e+03, 1.100e-01, 1.690e-01, 1.910e-01, 6.000e-02],\n",
       "       [1.200e+01, 2.020e+02, 8.600e-02, 5.900e-02, 1.770e-01, 6.500e-02],\n",
       "       [1.400e+01, 5.350e+02, 1.160e-01, 1.230e-01, 2.130e-01, 6.800e-02],\n",
       "       [2.100e+01, 4.490e+02, 1.030e-01, 9.100e-02, 1.680e-01, 6.000e-02],\n",
       "       [1.100e+01, 5.610e+02, 8.800e-02, 7.700e-02, 1.810e-01, 5.700e-02],\n",
       "       [2.500e+01, 4.280e+02, 8.600e-02, 5.000e-02, 1.500e-01, 5.900e-02],\n",
       "       [2.200e+01, 5.720e+02, 7.700e-02, 6.100e-02, 1.350e-01, 6.000e-02],\n",
       "       [1.500e+01, 4.380e+02, 8.300e-02, 4.800e-02, 1.870e-01, 6.100e-02],\n",
       "       [2.600e+01, 1.033e+03, 1.150e-01, 1.490e-01, 2.090e-01, 6.300e-02],\n",
       "       [2.500e+01, 7.130e+02, 9.100e-02, 7.100e-02, 1.620e-01, 5.700e-02],\n",
       "       [1.300e+01, 4.090e+02, 9.500e-02, 5.500e-02, 1.920e-01, 5.900e-02],\n",
       "       [1.900e+01, 1.152e+03, 1.050e-01, 1.270e-01, 1.920e-01, 6.000e-02],\n",
       "       [2.000e+01, 6.570e+02, 1.140e-01, 1.370e-01, 2.030e-01, 6.800e-02],\n",
       "       [1.500e+01, 5.270e+02, 8.100e-02, 3.800e-02, 1.820e-01, 5.500e-02],\n",
       "       [2.600e+01, 2.250e+02, 9.800e-02, 5.300e-02, 1.680e-01, 7.200e-02],\n",
       "       [1.800e+01, 3.120e+02, 1.130e-01, 8.100e-02, 2.740e-01, 7.000e-02],\n",
       "       [1.500e+01, 2.220e+02, 1.240e-01, 9.000e-02, 1.830e-01, 6.800e-02],\n",
       "       [2.200e+01, 6.460e+02, 1.050e-01, 2.010e-01, 1.950e-01, 7.300e-02],\n",
       "       [1.700e+01, 2.610e+02, 7.700e-02, 8.800e-02, 2.340e-01, 7.000e-02],\n",
       "       [1.900e+01, 4.990e+02, 1.120e-01, 1.260e-01, 1.910e-01, 6.600e-02],\n",
       "       [2.100e+01, 6.680e+02, 1.170e-01, 1.480e-01, 1.950e-01, 6.700e-02],\n",
       "       [1.300e+01, 2.690e+02, 1.040e-01, 7.800e-02, 1.720e-01, 6.900e-02],\n",
       "       [1.200e+01, 3.940e+02, 8.100e-02, 4.700e-02, 1.520e-01, 5.700e-02],\n",
       "       [1.700e+01, 2.510e+02, 1.070e-01, 1.410e-01, 2.110e-01, 8.000e-02],\n",
       "       [2.100e+01, 5.030e+02, 9.800e-02, 5.200e-02, 1.590e-01, 5.700e-02],\n",
       "       [1.800e+01, 1.130e+03, 9.000e-02, 1.030e-01, 1.580e-01, 5.500e-02],\n",
       "       [2.600e+01, 2.440e+02, 9.800e-02, 1.530e-01, 1.900e-01, 9.000e-02],\n",
       "       [1.200e+01, 9.290e+02, 1.070e-01, 1.830e-01, 1.930e-01, 6.500e-02],\n",
       "       [2.500e+01, 5.840e+02, 1.010e-01, 1.280e-01, 1.660e-01, 6.600e-02],\n",
       "       [1.300e+01, 4.710e+02, 9.200e-02, 6.800e-02, 1.720e-01, 5.900e-02],\n",
       "       [1.800e+01, 8.180e+02, 9.200e-02, 8.400e-02, 1.800e-01, 5.400e-02],\n",
       "       [1.700e+01, 5.590e+02, 1.290e-01, 1.050e-01, 2.400e-01, 6.600e-02],\n",
       "       [2.100e+01, 1.006e+03, 1.070e-01, 2.150e-01, 2.150e-01, 6.700e-02],\n",
       "       [1.800e+01, 1.245e+03, 1.290e-01, 3.450e-01, 2.910e-01, 8.100e-02],\n",
       "       [1.600e+01, 5.060e+02, 9.900e-02, 9.500e-02, 1.720e-01, 6.000e-02],\n",
       "       [1.800e+01, 4.020e+02, 1.100e-01, 9.400e-02, 1.840e-01, 7.000e-02],\n",
       "       [2.100e+01, 5.200e+02, 1.080e-01, 1.540e-01, 1.940e-01, 6.900e-02],\n",
       "       [1.500e+01, 1.878e+03, 1.060e-01, 2.670e-01, 1.830e-01, 6.800e-02],\n",
       "       [1.400e+01, 1.132e+03, 1.220e-01, 1.790e-01, 1.630e-01, 7.200e-02],\n",
       "       [2.100e+01, 4.430e+02, 9.700e-02, 7.200e-02, 2.080e-01, 6.000e-02],\n",
       "       [1.300e+01, 1.075e+03, 9.900e-02, 1.050e-01, 2.130e-01, 6.000e-02],\n",
       "       [2.600e+01, 6.480e+02, 9.400e-02, 9.900e-02, 2.080e-01, 5.600e-02],\n",
       "       [1.100e+01, 1.076e+03, 9.000e-02, 1.210e-01, 1.950e-01, 5.600e-02],\n",
       "       [1.100e+01, 4.660e+02, 8.800e-02, 9.400e-02, 1.930e-01, 6.400e-02],\n",
       "       [2.300e+01, 6.520e+02, 1.130e-01, 1.340e-01, 2.120e-01, 6.300e-02],\n",
       "       [2.700e+01, 6.630e+02, 9.000e-02, 8.600e-02, 1.690e-01, 5.900e-02],\n",
       "       [1.200e+01, 7.280e+02, 9.200e-02, 1.040e-01, 1.720e-01, 6.100e-02],\n",
       "       [1.400e+01, 5.520e+02, 7.400e-02, 5.100e-02, 1.390e-01, 5.300e-02],\n",
       "       [1.700e+01, 5.550e+02, 1.020e-01, 8.200e-02, 1.640e-01, 5.700e-02],\n",
       "       [2.600e+01, 7.060e+02, 1.040e-01, 1.550e-01, 1.860e-01, 6.300e-02],\n",
       "       [1.600e+01, 1.264e+03, 9.100e-02, 1.310e-01, 2.100e-01, 5.600e-02],\n",
       "       [1.400e+01, 4.510e+02, 1.050e-01, 7.100e-02, 1.900e-01, 6.600e-02],\n",
       "       [2.700e+01, 2.950e+02, 1.020e-01, 5.300e-02, 1.350e-01, 6.900e-02],\n",
       "       [2.400e+01, 4.130e+02, 9.000e-02, 7.500e-02, 1.620e-01, 6.600e-02],\n",
       "       [2.700e+01, 6.430e+02, 9.800e-02, 1.140e-01, 1.880e-01, 6.400e-02]])"
      ]
     },
     "execution_count": 707,
     "metadata": {},
     "output_type": "execute_result"
    }
   ],
   "source": [
    "x"
   ]
  },
  {
   "cell_type": "code",
   "execution_count": 708,
   "id": "6ca80f14",
   "metadata": {},
   "outputs": [],
   "source": [
    "y = data.iloc[:, 0].values"
   ]
  },
  {
   "cell_type": "code",
   "execution_count": 709,
   "id": "64780b71",
   "metadata": {},
   "outputs": [
    {
     "data": {
      "text/plain": [
       "array([0, 1, 0, 0, 0, 1, 0, 0, 0, 0, 0, 0, 1, 0, 0, 0, 0, 0, 0, 1, 1, 1,\n",
       "       0, 0, 0, 0, 0, 0, 0, 0, 0, 0, 0, 0, 0, 0, 0, 1, 0, 0, 0, 0, 0, 0,\n",
       "       0, 0, 1, 0, 1, 1, 1, 1, 1, 0, 0, 1, 0, 0, 1, 1, 1, 1, 0, 1, 0, 0,\n",
       "       1, 1, 1, 1, 0, 1, 0, 0, 1, 0, 1, 0, 0, 1, 1, 1, 0, 0, 1, 0, 0, 0,\n",
       "       1, 1, 1, 0, 1, 1, 0, 0, 1, 1, 1, 0], dtype=int64)"
      ]
     },
     "execution_count": 709,
     "metadata": {},
     "output_type": "execute_result"
    }
   ],
   "source": [
    "y"
   ]
  },
  {
   "cell_type": "code",
   "execution_count": 710,
   "id": "240ed94a",
   "metadata": {},
   "outputs": [
    {
     "name": "stdout",
     "output_type": "stream",
     "text": [
      "Mínimos: 11.0,202.0,0.07, 0.038\n",
      "Máximos: 27.0,1878.0,0.143, 0.345\n"
     ]
    }
   ],
   "source": [
    "print(\"Mínimos: {},{},{}, {}\".format(x[:, 0].min(), x[:, 1].min(), x[:, 2].min(), x[:, 3].min()))\n",
    "print(\"Máximos: {},{},{}, {}\".format(x[:, 0].max(), x[:, 1].max(), x[:, 2].max(), x[:, 3].max()))"
   ]
  },
  {
   "cell_type": "code",
   "execution_count": 711,
   "id": "a5bd8f2e",
   "metadata": {},
   "outputs": [],
   "source": [
    "from sklearn.preprocessing import StandardScaler"
   ]
  },
  {
   "cell_type": "code",
   "execution_count": 712,
   "id": "74c6ff85",
   "metadata": {},
   "outputs": [
    {
     "data": {
      "text/plain": [
       "array([[-1.20574648e+00,  7.89416627e-01,  2.76420965e+00,\n",
       "         2.48697022e+00,  1.59415115e+00,  1.76446414e+00],\n",
       "       [-1.01220772e+00,  1.95882960e+00,  2.76420965e+00,\n",
       "        -7.84061332e-01, -3.97313527e-01, -9.48199109e-01],\n",
       "       [ 1.69733493e+00,  1.57216886e+00,  1.52865530e+00,\n",
       "         5.47363571e-01,  4.51507484e-01, -5.78290484e-01],\n",
       "       [-4.31591436e-01, -9.96138662e-01, -2.24664966e+00,\n",
       "         2.58559429e+00,  2.18179647e+00,  3.98391589e+00],\n",
       "       [ 1.49024846e-01,  1.86766568e+00,  2.62692583e+00,\n",
       "         1.03555270e-01, -3.97313527e-01, -7.01593359e-01],\n",
       "       [ 1.31025741e+00, -7.10072586e-01,  1.73458102e+00,\n",
       "         7.11737016e-01,  5.16801408e-01,  1.39455552e+00],\n",
       "       [ 1.50379617e+00,  1.05976479e+00, -5.30601951e-01,\n",
       "        -2.90940997e-01, -4.62607451e-01, -9.48199109e-01],\n",
       "       [-4.45139150e-02, -3.92570677e-01,  1.11680385e+00,\n",
       "         6.29550293e-01,  8.75917990e-01,  1.27125264e+00],\n",
       "       [ 1.11671865e+00, -5.74898506e-01,  1.66593911e+00,\n",
       "         1.08979594e+00,  1.36562242e+00,  1.14794977e+00],\n",
       "       [-1.39928524e+00, -7.13216169e-01,  1.11680385e+00,\n",
       "         1.86235113e+00,  3.20919636e-01,  2.13437277e+00],\n",
       "       [ 5.36102367e-01,  2.99017639e-01, -1.42294676e+00,\n",
       "        -9.81309465e-01, -1.31142846e+00, -9.48199109e-01],\n",
       "       [-6.25130197e-01,  2.45576724e-01, -3.93318134e-01,\n",
       "         3.78058923e-02, -2.99372641e-01, -4.54987609e-01],\n",
       "       [-6.25130197e-01,  1.32068220e+00, -3.93318134e-01,\n",
       "         1.96097520e+00,  1.52885723e+00,  1.64116127e+00],\n",
       "       [ 7.29641128e-01,  2.51863890e-01, -1.28566294e+00,\n",
       "        -4.38877098e-01, -2.66725679e-01, -1.44141061e+00],\n",
       "       [-1.01220772e+00, -3.92570677e-01,  7.04952398e-01,\n",
       "         1.68154034e+00,  4.51507484e-01,  1.51785839e+00],\n",
       "       [ 1.49024846e-01, -1.37940433e-01,  7.73594306e-01,\n",
       "         5.47363571e-01,  1.20238761e+00,  7.78041142e-01],\n",
       "       [-4.31591436e-01, -5.62072686e-02, -2.56034318e-01,\n",
       "        -8.99122743e-01, -1.11554669e+00, -7.01593359e-01],\n",
       "       [-8.18668958e-01,  3.02161223e-01,  9.79520031e-01,\n",
       "         1.23773204e+00,  7.45330142e-01,  1.14794977e+00],\n",
       "       [-8.18668958e-01,  1.75135310e+00, -3.24676226e-01,\n",
       "        -3.89565064e-01, -1.14819365e+00, -1.31810773e+00],\n",
       "       [-1.39928524e+00, -4.30293676e-01, -3.24676226e-01,\n",
       "        -7.51186643e-01, -1.36137831e-01, -8.24896234e-01],\n",
       "       [-8.18668958e-01, -5.74898506e-01,  3.61742857e-01,\n",
       "         4.93120334e-03,  1.25037864e-01,  4.08132516e-01],\n",
       "       [ 1.11671865e+00, -1.34821999e+00, -5.01085930e-02,\n",
       "        -1.01418415e+00, -3.64666565e-01,  5.31435391e-01],\n",
       "       [ 1.69733493e+00,  3.52081325e-03,  2.93100948e-01,\n",
       "         1.43498017e+00,  1.92062077e+00,  6.54738267e-01],\n",
       "       [-1.20574648e+00,  2.20402909e+00, -5.99243859e-01,\n",
       "        -4.06002409e-01, -5.27901375e-01, -1.44141061e+00],\n",
       "       [-1.01220772e+00,  6.35381048e-01,  6.36310490e-01,\n",
       "         3.17240748e-01,  2.22978750e-01, -2.08381859e-01],\n",
       "       [ 1.69733493e+00,  6.60529714e-01,  1.11680385e+00,\n",
       "         1.66510300e+00,  3.61826279e+00,  1.14794977e+00],\n",
       "       [ 1.11671865e+00, -1.81950599e-01,  1.55817132e-01,\n",
       "         9.91171872e-01,  1.03915280e+00,  5.31435391e-01],\n",
       "       [ 1.11671865e+00,  1.22951828e+00, -5.99243859e-01,\n",
       "        -3.23815686e-01, -7.56430109e-01, -9.48199109e-01],\n",
       "       [-6.25130197e-01,  9.15411444e-02,  3.61742857e-01,\n",
       "         7.11737016e-01, -5.54998353e-03,  3.82238913e-02],\n",
       "       [-4.31591436e-01,  7.92560211e-01, -3.24676226e-01,\n",
       "        -1.75879586e-01, -6.25842261e-01, -4.54987609e-01],\n",
       "       [ 7.29641128e-01,  1.21065678e+00,  2.24459040e-01,\n",
       "         1.02404656e+00,  8.10624066e-01, -3.31684734e-01],\n",
       "       [ 1.50379617e+00, -8.23241583e-01,  5.67668581e-01,\n",
       "         4.15864815e-01,  1.20238761e+00,  1.64116127e+00],\n",
       "       [-4.45139150e-02,  6.16519548e-01,  1.18544576e+00,\n",
       "         3.82990126e-01,  1.03915280e+00, -8.50789838e-02],\n",
       "       [ 5.36102367e-01,  1.44328194e+00, -5.99243859e-01,\n",
       "         7.44611705e-01, -2.66725679e-01, -2.08381859e-01],\n",
       "       [ 9.23179889e-01,  3.27309889e-01,  8.71752235e-02,\n",
       "         4.81614193e-01,  2.22978750e-01,  3.82238913e-02],\n",
       "       [-1.01220772e+00,  5.25355634e-01, -4.61960043e-01,\n",
       "         1.19992615e-01, -1.03490869e-01, -9.48199109e-01],\n",
       "       [-1.20574648e+00, -2.19673598e-01, -3.24676226e-01,\n",
       "        -2.74503653e-01, -1.36137831e-01, -4.54987609e-01],\n",
       "       [-1.39928524e+00, -5.62324173e-01, -8.73811492e-01,\n",
       "        -1.45799246e+00, -1.50731023e+00, -7.01593359e-01],\n",
       "       [-6.25130197e-01, -1.21971030e-02, -5.99243859e-01,\n",
       "        -1.24430698e+00, -1.18084061e+00, -1.19480486e+00],\n",
       "       [-8.18668958e-01, -4.52298759e-01, -5.01085930e-02,\n",
       "        -1.15061411e-02, -6.91136185e-01, -8.50789838e-02],\n",
       "       [-4.31591436e-01, -4.39724426e-01, -1.42294676e+00,\n",
       "        -1.09637088e+00, -4.95254413e-01, -1.07150198e+00],\n",
       "       [ 1.69733493e+00, -1.04329241e+00,  1.39137148e+00,\n",
       "        -7.72555190e-02, -1.03490869e-01,  5.31435391e-01],\n",
       "       [-1.39928524e+00,  1.26095412e+00, -8.05169584e-01,\n",
       "         1.51716690e+00,  1.23503457e+00, -2.08381859e-01],\n",
       "       [ 5.36102367e-01, -4.96308924e-01,  8.71752235e-02,\n",
       "         2.84366059e-01,  1.25037864e-01,  4.08132516e-01],\n",
       "       [-6.25130197e-01, -5.37175507e-01, -3.93318134e-01,\n",
       "        -3.56690375e-01, -5.93195299e-01, -3.31684734e-01],\n",
       "       [-1.39928524e+00,  1.17293378e+00,  4.99026673e-01,\n",
       "         6.95299671e-01, -7.08439075e-02, -5.78290484e-01],\n",
       "       [-1.20574648e+00, -1.57455798e+00, -1.14837913e+00,\n",
       "        -1.11280822e+00, -5.27901375e-01,  3.82238913e-02],\n",
       "       [-8.18668958e-01, -5.27744757e-01,  9.10878123e-01,\n",
       "        -6.08181746e-02,  6.47389256e-01,  4.08132516e-01],\n",
       "       [ 5.36102367e-01, -7.98092917e-01,  1.85333152e-02,\n",
       "        -5.86813198e-01, -8.21724033e-01, -5.78290484e-01],\n",
       "       [-1.39928524e+00, -4.46011592e-01, -1.01109531e+00,\n",
       "        -8.16936020e-01, -3.97313527e-01, -9.48199109e-01],\n",
       "       [ 1.31025741e+00, -8.64108165e-01, -1.14837913e+00,\n",
       "        -1.26074432e+00, -1.40936935e+00, -7.01593359e-01],\n",
       "       [ 7.29641128e-01, -4.11432177e-01, -1.76615630e+00,\n",
       "        -1.07993353e+00, -1.89907378e+00, -5.78290484e-01],\n",
       "       [-6.25130197e-01, -8.32672333e-01, -1.35430485e+00,\n",
       "        -1.29361901e+00, -2.01431755e-01, -4.54987609e-01],\n",
       "       [ 1.50379617e+00,  1.03775970e+00,  8.42236215e-01,\n",
       "         3.66552782e-01,  5.16801408e-01, -2.08381859e-01],\n",
       "       [ 1.31025741e+00,  3.18130626e-02, -8.05169584e-01,\n",
       "        -9.15560087e-01, -1.01760580e+00, -9.48199109e-01],\n",
       "       [-1.01220772e+00, -9.23836247e-01, -5.30601951e-01,\n",
       "        -1.17855760e+00, -3.81969455e-02, -7.01593359e-01],\n",
       "       [ 1.49024846e-01,  1.41184611e+00,  1.55817132e-01,\n",
       "         4.93120334e-03, -3.81969455e-02, -5.78290484e-01],\n",
       "       [ 3.42563607e-01, -1.44227600e-01,  7.73594306e-01,\n",
       "         1.69304648e-01,  3.20919636e-01,  4.08132516e-01],\n",
       "       [-6.25130197e-01, -5.52893423e-01, -1.49158867e+00,\n",
       "        -1.45799246e+00, -3.64666565e-01, -1.19480486e+00],\n",
       "       [ 1.50379617e+00, -1.50225557e+00, -3.24676226e-01,\n",
       "        -1.21143229e+00, -8.21724033e-01,  9.01344017e-01],\n",
       "       [-4.45139150e-02, -1.22876382e+00,  7.04952398e-01,\n",
       "        -7.51186643e-01,  2.63885394e+00,  6.54738267e-01],\n",
       "       [-6.25130197e-01, -1.51168632e+00,  1.46001339e+00,\n",
       "        -6.03250542e-01, -3.32019603e-01,  4.08132516e-01],\n",
       "       [ 7.29641128e-01, -1.78807016e-01,  1.55817132e-01,\n",
       "         1.22129469e+00,  5.97439404e-02,  1.02464689e+00],\n",
       "       [-2.38052676e-01, -1.38908657e+00, -1.76615630e+00,\n",
       "        -6.36125231e-01,  1.33297546e+00,  6.54738267e-01],\n",
       "       [ 1.49024846e-01, -6.40913754e-01,  6.36310490e-01,\n",
       "        -1.15061411e-02, -7.08439075e-02,  1.61526766e-01],\n",
       "       [ 5.36102367e-01, -1.09648184e-01,  9.79520031e-01,\n",
       "         3.50115437e-01,  5.97439404e-02,  2.84829641e-01],\n",
       "       [-1.01220772e+00, -1.36393790e+00,  8.71752235e-02,\n",
       "        -8.00498676e-01, -6.91136185e-01,  5.31435391e-01],\n",
       "       [-1.20574648e+00, -9.70989996e-01, -1.49158867e+00,\n",
       "        -1.31005635e+00, -1.34407542e+00, -9.48199109e-01],\n",
       "       [-2.38052676e-01, -1.42052240e+00,  2.93100948e-01,\n",
       "         2.35054026e-01,  5.82095332e-01,  1.88776702e+00],\n",
       "       [ 5.36102367e-01, -6.28339421e-01, -3.24676226e-01,\n",
       "        -1.22786963e+00, -1.11554669e+00, -9.48199109e-01],\n",
       "       [-4.45139150e-02,  1.34268728e+00, -8.73811492e-01,\n",
       "        -3.89565064e-01, -1.14819365e+00, -1.19480486e+00],\n",
       "       [ 1.50379617e+00, -1.44252748e+00, -3.24676226e-01,\n",
       "         4.32302160e-01, -1.03490869e-01,  3.12079577e+00],\n",
       "       [-1.20574648e+00,  7.10827046e-01,  2.93100948e-01,\n",
       "         9.25422494e-01, -5.54998353e-03,  3.82238913e-02],\n",
       "       [ 1.31025741e+00, -3.73709177e-01, -1.18750501e-01,\n",
       "         2.13685478e-02, -8.87017957e-01,  1.61526766e-01],\n",
       "       [-1.01220772e+00, -7.28934085e-01, -7.36527676e-01,\n",
       "        -9.64872121e-01, -6.91136185e-01, -7.01593359e-01],\n",
       "       [-4.45139150e-02,  3.61889304e-01, -7.36527676e-01,\n",
       "        -7.01874609e-01, -4.29960489e-01, -1.31810773e+00],\n",
       "       [-2.38052676e-01, -4.52298759e-01,  1.80322293e+00,\n",
       "        -3.56690375e-01,  1.52885723e+00,  1.61526766e-01],\n",
       "       [ 5.36102367e-01,  9.52882957e-01,  2.93100948e-01,\n",
       "         1.45141752e+00,  7.12683180e-01,  2.84829641e-01],\n",
       "       [-4.45139150e-02,  1.70419935e+00,  1.80322293e+00,\n",
       "         3.58827230e+00,  3.19385229e+00,  2.01106989e+00],\n",
       "       [-4.31591436e-01, -6.18908671e-01, -2.56034318e-01,\n",
       "        -5.21063820e-01, -6.91136185e-01, -5.78290484e-01],\n",
       "       [-4.45139150e-02, -9.45841330e-01,  4.99026673e-01,\n",
       "        -5.37501164e-01, -2.99372641e-01,  6.54738267e-01],\n",
       "       [ 5.36102367e-01, -5.74898506e-01,  3.61742857e-01,\n",
       "         4.48739504e-01,  2.70969784e-02,  5.31435391e-01],\n",
       "       [-6.25130197e-01,  3.69408756e+00,  2.24459040e-01,\n",
       "         2.30615943e+00, -3.32019603e-01,  4.08132516e-01],\n",
       "       [-8.18668958e-01,  1.34897445e+00,  1.32272957e+00,\n",
       "         8.59673116e-01, -9.84958843e-01,  9.01344017e-01],\n",
       "       [ 5.36102367e-01, -8.16954417e-01, -3.93318134e-01,\n",
       "        -8.99122743e-01,  4.84154446e-01, -5.78290484e-01],\n",
       "       [-1.01220772e+00,  1.16979020e+00, -2.56034318e-01,\n",
       "        -3.56690375e-01,  6.47389256e-01, -5.78290484e-01],\n",
       "       [ 1.50379617e+00, -1.72519849e-01, -5.99243859e-01,\n",
       "        -4.55314442e-01,  4.84154446e-01, -1.07150198e+00],\n",
       "       [-1.39928524e+00,  1.17293378e+00, -8.73811492e-01,\n",
       "        -9.36928635e-02,  5.97439404e-02, -1.07150198e+00],\n",
       "       [-1.39928524e+00, -7.44652002e-01, -1.01109531e+00,\n",
       "        -5.37501164e-01, -5.54998353e-03, -8.50789838e-02],\n",
       "       [ 9.23179889e-01, -1.59945516e-01,  7.04952398e-01,\n",
       "         1.19992615e-01,  6.14742294e-01, -2.08381859e-01],\n",
       "       [ 1.69733493e+00, -1.25366100e-01, -8.73811492e-01,\n",
       "        -6.68999920e-01, -7.89077071e-01, -7.01593359e-01],\n",
       "       [-1.20574648e+00,  7.89668114e-02, -7.36527676e-01,\n",
       "        -3.73127720e-01, -6.91136185e-01, -4.54987609e-01],\n",
       "       [-8.18668958e-01, -4.74303842e-01, -1.97208202e+00,\n",
       "        -1.24430698e+00, -1.76848593e+00, -1.44141061e+00],\n",
       "       [-2.38052676e-01, -4.64873092e-01, -5.01085930e-02,\n",
       "        -7.34749298e-01, -9.52311881e-01, -9.48199109e-01],\n",
       "       [ 1.50379617e+00,  9.80797976e-03,  8.71752235e-02,\n",
       "         4.65176849e-01, -2.34078717e-01, -2.08381859e-01],\n",
       "       [-4.31591436e-01,  1.76392744e+00, -8.05169584e-01,\n",
       "         7.06805813e-02,  5.49448370e-01, -1.07150198e+00],\n",
       "       [-8.18668958e-01, -7.91805751e-01,  1.55817132e-01,\n",
       "        -9.15560087e-01, -1.03490869e-01,  1.61526766e-01],\n",
       "       [ 1.69733493e+00, -1.28220474e+00, -5.01085930e-02,\n",
       "        -1.21143229e+00, -1.89907378e+00,  5.31435391e-01],\n",
       "       [ 1.11671865e+00, -9.11261914e-01, -8.73811492e-01,\n",
       "        -8.49810709e-01, -1.01760580e+00,  1.61526766e-01],\n",
       "       [ 1.69733493e+00, -1.88237765e-01, -3.24676226e-01,\n",
       "        -2.08754275e-01, -1.68784793e-01, -8.50789838e-02]])"
      ]
     },
     "execution_count": 712,
     "metadata": {},
     "output_type": "execute_result"
    }
   ],
   "source": [
    "scaler = StandardScaler()\n",
    "x = scaler.fit_transform(x)\n",
    "x"
   ]
  },
  {
   "cell_type": "code",
   "execution_count": 713,
   "id": "a4e631b6",
   "metadata": {},
   "outputs": [
    {
     "name": "stdout",
     "output_type": "stream",
     "text": [
      "Mínimos: -1.3992852401965472,-1.5745579813568347,-2.2466496578408193, -1.4579924550930932\n",
      "Máximos: 1.697334931746019,3.694087556005517,2.7642096462343324, 3.588272299287736\n"
     ]
    }
   ],
   "source": [
    "print(\"Mínimos: {},{},{}, {}\".format(x[:, 0].min(), x[:, 1].min(), x[:, 2].min(), x[:, 3].min()))\n",
    "print(\"Máximos: {},{},{}, {}\".format(x[:, 0].max(), x[:, 1].max(), x[:, 2].max(), x[:, 3].max()))"
   ]
  },
  {
   "cell_type": "code",
   "execution_count": 714,
   "id": "72b8e1bc",
   "metadata": {},
   "outputs": [],
   "source": [
    "from sklearn.model_selection import train_test_split"
   ]
  },
  {
   "cell_type": "code",
   "execution_count": 715,
   "id": "01df2088",
   "metadata": {},
   "outputs": [],
   "source": [
    "x_training, x_test, y_training, y_test = train_test_split(\n",
    "    x, \n",
    "    y, \n",
    "    test_size=0.4, \n",
    "    random_state=0\n",
    ")"
   ]
  },
  {
   "cell_type": "code",
   "execution_count": 716,
   "id": "103281ea",
   "metadata": {},
   "outputs": [
    {
     "data": {
      "text/plain": [
       "((60, 6), (60,))"
      ]
     },
     "execution_count": 716,
     "metadata": {},
     "output_type": "execute_result"
    }
   ],
   "source": [
    "x_training.shape, y_training.shape"
   ]
  },
  {
   "cell_type": "code",
   "execution_count": 717,
   "id": "650046e1",
   "metadata": {},
   "outputs": [
    {
     "data": {
      "text/plain": [
       "((40, 6), (40,))"
      ]
     },
     "execution_count": 717,
     "metadata": {},
     "output_type": "execute_result"
    }
   ],
   "source": [
    "x_test.shape, y_test.shape"
   ]
  },
  {
   "cell_type": "code",
   "execution_count": 718,
   "id": "d0e50579",
   "metadata": {},
   "outputs": [],
   "source": [
    "from sklearn.tree import DecisionTreeClassifier\n",
    "from sklearn.metrics import accuracy_score, classification_report"
   ]
  },
  {
   "cell_type": "code",
   "execution_count": 719,
   "id": "c0fa2ffd",
   "metadata": {},
   "outputs": [
    {
     "data": {
      "text/html": [
       "<style>#sk-container-id-17 {color: black;background-color: white;}#sk-container-id-17 pre{padding: 0;}#sk-container-id-17 div.sk-toggleable {background-color: white;}#sk-container-id-17 label.sk-toggleable__label {cursor: pointer;display: block;width: 100%;margin-bottom: 0;padding: 0.3em;box-sizing: border-box;text-align: center;}#sk-container-id-17 label.sk-toggleable__label-arrow:before {content: \"▸\";float: left;margin-right: 0.25em;color: #696969;}#sk-container-id-17 label.sk-toggleable__label-arrow:hover:before {color: black;}#sk-container-id-17 div.sk-estimator:hover label.sk-toggleable__label-arrow:before {color: black;}#sk-container-id-17 div.sk-toggleable__content {max-height: 0;max-width: 0;overflow: hidden;text-align: left;background-color: #f0f8ff;}#sk-container-id-17 div.sk-toggleable__content pre {margin: 0.2em;color: black;border-radius: 0.25em;background-color: #f0f8ff;}#sk-container-id-17 input.sk-toggleable__control:checked~div.sk-toggleable__content {max-height: 200px;max-width: 100%;overflow: auto;}#sk-container-id-17 input.sk-toggleable__control:checked~label.sk-toggleable__label-arrow:before {content: \"▾\";}#sk-container-id-17 div.sk-estimator input.sk-toggleable__control:checked~label.sk-toggleable__label {background-color: #d4ebff;}#sk-container-id-17 div.sk-label input.sk-toggleable__control:checked~label.sk-toggleable__label {background-color: #d4ebff;}#sk-container-id-17 input.sk-hidden--visually {border: 0;clip: rect(1px 1px 1px 1px);clip: rect(1px, 1px, 1px, 1px);height: 1px;margin: -1px;overflow: hidden;padding: 0;position: absolute;width: 1px;}#sk-container-id-17 div.sk-estimator {font-family: monospace;background-color: #f0f8ff;border: 1px dotted black;border-radius: 0.25em;box-sizing: border-box;margin-bottom: 0.5em;}#sk-container-id-17 div.sk-estimator:hover {background-color: #d4ebff;}#sk-container-id-17 div.sk-parallel-item::after {content: \"\";width: 100%;border-bottom: 1px solid gray;flex-grow: 1;}#sk-container-id-17 div.sk-label:hover label.sk-toggleable__label {background-color: #d4ebff;}#sk-container-id-17 div.sk-serial::before {content: \"\";position: absolute;border-left: 1px solid gray;box-sizing: border-box;top: 0;bottom: 0;left: 50%;z-index: 0;}#sk-container-id-17 div.sk-serial {display: flex;flex-direction: column;align-items: center;background-color: white;padding-right: 0.2em;padding-left: 0.2em;position: relative;}#sk-container-id-17 div.sk-item {position: relative;z-index: 1;}#sk-container-id-17 div.sk-parallel {display: flex;align-items: stretch;justify-content: center;background-color: white;position: relative;}#sk-container-id-17 div.sk-item::before, #sk-container-id-17 div.sk-parallel-item::before {content: \"\";position: absolute;border-left: 1px solid gray;box-sizing: border-box;top: 0;bottom: 0;left: 50%;z-index: -1;}#sk-container-id-17 div.sk-parallel-item {display: flex;flex-direction: column;z-index: 1;position: relative;background-color: white;}#sk-container-id-17 div.sk-parallel-item:first-child::after {align-self: flex-end;width: 50%;}#sk-container-id-17 div.sk-parallel-item:last-child::after {align-self: flex-start;width: 50%;}#sk-container-id-17 div.sk-parallel-item:only-child::after {width: 0;}#sk-container-id-17 div.sk-dashed-wrapped {border: 1px dashed gray;margin: 0 0.4em 0.5em 0.4em;box-sizing: border-box;padding-bottom: 0.4em;background-color: white;}#sk-container-id-17 div.sk-label label {font-family: monospace;font-weight: bold;display: inline-block;line-height: 1.2em;}#sk-container-id-17 div.sk-label-container {text-align: center;}#sk-container-id-17 div.sk-container {/* jupyter's `normalize.less` sets `[hidden] { display: none; }` but bootstrap.min.css set `[hidden] { display: none !important; }` so we also need the `!important` here to be able to override the default hidden behavior on the sphinx rendered scikit-learn.org. See: https://github.com/scikit-learn/scikit-learn/issues/21755 */display: inline-block !important;position: relative;}#sk-container-id-17 div.sk-text-repr-fallback {display: none;}</style><div id=\"sk-container-id-17\" class=\"sk-top-container\"><div class=\"sk-text-repr-fallback\"><pre>DecisionTreeClassifier(criterion=&#x27;entropy&#x27;, random_state=0)</pre><b>In a Jupyter environment, please rerun this cell to show the HTML representation or trust the notebook. <br />On GitHub, the HTML representation is unable to render, please try loading this page with nbviewer.org.</b></div><div class=\"sk-container\" hidden><div class=\"sk-item\"><div class=\"sk-estimator sk-toggleable\"><input class=\"sk-toggleable__control sk-hidden--visually\" id=\"sk-estimator-id-17\" type=\"checkbox\" checked><label for=\"sk-estimator-id-17\" class=\"sk-toggleable__label sk-toggleable__label-arrow\">DecisionTreeClassifier</label><div class=\"sk-toggleable__content\"><pre>DecisionTreeClassifier(criterion=&#x27;entropy&#x27;, random_state=0)</pre></div></div></div></div></div>"
      ],
      "text/plain": [
       "DecisionTreeClassifier(criterion='entropy', random_state=0)"
      ]
     },
     "execution_count": 719,
     "metadata": {},
     "output_type": "execute_result"
    }
   ],
   "source": [
    "decision_tree_classifier = DecisionTreeClassifier(criterion=\"entropy\", random_state=0)\n",
    "decision_tree_classifier.fit(x_training, y_training)"
   ]
  },
  {
   "cell_type": "code",
   "execution_count": 720,
   "id": "ac96486f",
   "metadata": {},
   "outputs": [
    {
     "name": "stdout",
     "output_type": "stream",
     "text": [
      "Porcentagem de acerto: 72.50%\n"
     ]
    }
   ],
   "source": [
    "predictions = decision_tree_classifier.predict(x_test)\n",
    "print(f'Porcentagem de acerto: {(accuracy_score(y_test, predictions) * 100):.2f}%')"
   ]
  },
  {
   "cell_type": "code",
   "execution_count": 721,
   "id": "47b9f391",
   "metadata": {},
   "outputs": [
    {
     "name": "stdout",
     "output_type": "stream",
     "text": [
      "              precision    recall  f1-score   support\n",
      "\n",
      "           0       0.81      0.78      0.79        27\n",
      "           1       0.57      0.62      0.59        13\n",
      "\n",
      "    accuracy                           0.73        40\n",
      "   macro avg       0.69      0.70      0.69        40\n",
      "weighted avg       0.73      0.72      0.73        40\n",
      "\n"
     ]
    }
   ],
   "source": [
    "print(classification_report(y_test, predictions))"
   ]
  },
  {
   "cell_type": "code",
   "execution_count": 722,
   "id": "8b1cee1f",
   "metadata": {},
   "outputs": [],
   "source": [
    "from sklearn.ensemble import RandomForestClassifier"
   ]
  },
  {
   "cell_type": "code",
   "execution_count": 723,
   "id": "bdd6f12b",
   "metadata": {},
   "outputs": [],
   "source": [
    "forest = RandomForestClassifier(n_estimators = 50, random_state=0)\n",
    "forest.fit(x_training, y_training)\n",
    "predictions = forest.predict(x_test)"
   ]
  },
  {
   "cell_type": "code",
   "execution_count": 724,
   "id": "1c4388eb",
   "metadata": {},
   "outputs": [
    {
     "name": "stdout",
     "output_type": "stream",
     "text": [
      "Porcentagem de acerto: 87.50%\n"
     ]
    }
   ],
   "source": [
    "print(f'Porcentagem de acerto: {(accuracy_score(y_test, predictions) * 100):.2f}%')"
   ]
  },
  {
   "cell_type": "code",
   "execution_count": 725,
   "id": "18922521",
   "metadata": {},
   "outputs": [
    {
     "name": "stdout",
     "output_type": "stream",
     "text": [
      "              precision    recall  f1-score   support\n",
      "\n",
      "           0       0.87      0.96      0.91        27\n",
      "           1       0.90      0.69      0.78        13\n",
      "\n",
      "    accuracy                           0.88        40\n",
      "   macro avg       0.88      0.83      0.85        40\n",
      "weighted avg       0.88      0.88      0.87        40\n",
      "\n"
     ]
    }
   ],
   "source": [
    "print(classification_report(y_test, predictions))"
   ]
  },
  {
   "cell_type": "code",
   "execution_count": 726,
   "id": "58a098b2",
   "metadata": {},
   "outputs": [
    {
     "data": {
      "image/png": "[encoded data removed]",
      "text/plain": [
       "<Figure size 432x288 with 1 Axes>"
      ]
     },
     "metadata": {
      "needs_background": "light"
     },
     "output_type": "display_data"
    }
   ],
   "source": [
    "cm = ConfusionMatrix(forest)\n",
    "cm.fit(x_training, y_training)\n",
    "cm.score(x_test, y_test);"
   ]
  },
  {
   "cell_type": "code",
   "execution_count": null,
   "id": "4bbd985e",
   "metadata": {},
   "outputs": [],
   "source": []
  }
 ],
 "metadata": {
  "kernelspec": {
   "display_name": "Python 3 (ipykernel)",
   "language": "python",
   "name": "python3"
  },
  "language_info": {
   "codemirror_mode": {
    "name": "ipython",
    "version": 3
   },
   "file_extension": ".py",
   "mimetype": "text/x-python",
   "name": "python",
   "nbconvert_exporter": "python",
   "pygments_lexer": "ipython3",
   "version": "3.10.5"
  }
 },
 "nbformat": 4,
 "nbformat_minor": 5
}
